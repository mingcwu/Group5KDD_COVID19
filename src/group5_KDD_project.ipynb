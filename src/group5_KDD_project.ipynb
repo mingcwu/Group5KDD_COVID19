{
 "cells": [
  {
   "cell_type": "markdown",
   "metadata": {},
   "source": [
    "# Group 5 KDD Project - COVID19"
   ]
  },
  {
   "cell_type": "markdown",
   "metadata": {},
   "source": [
    "### Team Member:  Osama Almasri, Sabda Karkera, Rishitha Muddana, Raga Preethi Potu, Ming Wu"
   ]
  },
  {
   "cell_type": "markdown",
   "metadata": {},
   "source": [
    "## Data Preprocessing and Data Preparation"
   ]
  },
  {
   "cell_type": "markdown",
   "metadata": {},
   "source": [
    "### Part 1. Import Libraries and Read Dataset"
   ]
  },
  {
   "cell_type": "code",
   "execution_count": 1,
   "metadata": {
    "scrolled": true
   },
   "outputs": [],
   "source": [
    "import pandas as pd\n",
    "import numpy as np\n",
    "import matplotlib.pylab as plt\n",
    "import seaborn as sns\n",
    "import random\n",
    "import scipy.stats as stats\n",
    "%matplotlib inline \n",
    "sns.set()"
   ]
  },
  {
   "cell_type": "code",
   "execution_count": 2,
   "metadata": {},
   "outputs": [],
   "source": [
    "df_covid19 = pd.read_csv(\"COVID-19_Nursing_Home_Dataset.csv\", na_values='')"
   ]
  },
  {
   "cell_type": "markdown",
   "metadata": {},
   "source": [
    "### Part 2. Understanding structure of data "
   ]
  },
  {
   "cell_type": "code",
   "execution_count": 3,
   "metadata": {},
   "outputs": [
    {
     "data": {
      "text/plain": [
       "(123143, 59)"
      ]
     },
     "execution_count": 3,
     "metadata": {},
     "output_type": "execute_result"
    }
   ],
   "source": [
    "# check the number of rows and columns of the dataset.\n",
    "df_covid19.shape"
   ]
  },
  {
   "cell_type": "markdown",
   "metadata": {},
   "source": [
    "There are 123143 rows and 59 columns in this covid19 dataset"
   ]
  },
  {
   "cell_type": "code",
   "execution_count": 4,
   "metadata": {},
   "outputs": [
    {
     "data": {
      "text/html": [
       "<div>\n",
       "<style scoped>\n",
       "    .dataframe tbody tr th:only-of-type {\n",
       "        vertical-align: middle;\n",
       "    }\n",
       "\n",
       "    .dataframe tbody tr th {\n",
       "        vertical-align: top;\n",
       "    }\n",
       "\n",
       "    .dataframe thead th {\n",
       "        text-align: right;\n",
       "    }\n",
       "</style>\n",
       "<table border=\"1\" class=\"dataframe\">\n",
       "  <thead>\n",
       "    <tr style=\"text-align: right;\">\n",
       "      <th></th>\n",
       "      <th>Week Ending</th>\n",
       "      <th>Federal Provider Number</th>\n",
       "      <th>Provider Name</th>\n",
       "      <th>Provider Address</th>\n",
       "      <th>Provider City</th>\n",
       "      <th>Provider State</th>\n",
       "      <th>Provider Zip Code</th>\n",
       "      <th>Submitted Data</th>\n",
       "      <th>Passed Quality Assurance Check</th>\n",
       "      <th>Residents Weekly Admissions COVID-19</th>\n",
       "      <th>...</th>\n",
       "      <th>Number of Ventilators in Use for COVID-19</th>\n",
       "      <th>Any Current Supply of Ventilator Supplies</th>\n",
       "      <th>One-Week Supply of Ventilator Supplies</th>\n",
       "      <th>Total Resident Confirmed COVID-19 Cases Per 1,000 Residents</th>\n",
       "      <th>Total Resident COVID-19 Deaths Per 1,000 Residents</th>\n",
       "      <th>Total Residents COVID-19 Deaths as a Percentage of Confirmed COVID-19 Cases</th>\n",
       "      <th>County</th>\n",
       "      <th>Three or More Confirmed and Suspected COVID-19 Cases This Week</th>\n",
       "      <th>Initial Confirmed COVID-19 Case This Week</th>\n",
       "      <th>Geolocation</th>\n",
       "    </tr>\n",
       "  </thead>\n",
       "  <tbody>\n",
       "    <tr>\n",
       "      <th>0</th>\n",
       "      <td>07/12/2020</td>\n",
       "      <td>215195</td>\n",
       "      <td>AUTUMN LAKE HEALTHCARE AT BRIDGEPARK</td>\n",
       "      <td>4017 LIBERTY HEIGHTS AVE.</td>\n",
       "      <td>BALTIMORE</td>\n",
       "      <td>MD</td>\n",
       "      <td>21207</td>\n",
       "      <td>Y</td>\n",
       "      <td>Y</td>\n",
       "      <td>0.0</td>\n",
       "      <td>...</td>\n",
       "      <td>0.0</td>\n",
       "      <td>Y</td>\n",
       "      <td>Y</td>\n",
       "      <td>756.4</td>\n",
       "      <td>89.7</td>\n",
       "      <td>11.9</td>\n",
       "      <td>Baltimore City</td>\n",
       "      <td>N</td>\n",
       "      <td>N</td>\n",
       "      <td>POINT (-76.687185 39.328731)</td>\n",
       "    </tr>\n",
       "    <tr>\n",
       "      <th>1</th>\n",
       "      <td>06/07/2020</td>\n",
       "      <td>225260</td>\n",
       "      <td>BLAIRE HOUSE OF MILFORD</td>\n",
       "      <td>20 CLAFLIN STREET</td>\n",
       "      <td>MILFORD</td>\n",
       "      <td>MA</td>\n",
       "      <td>1757</td>\n",
       "      <td>Y</td>\n",
       "      <td>Y</td>\n",
       "      <td>2.0</td>\n",
       "      <td>...</td>\n",
       "      <td>NaN</td>\n",
       "      <td>NaN</td>\n",
       "      <td>NaN</td>\n",
       "      <td>97.6</td>\n",
       "      <td>146.3</td>\n",
       "      <td>150.0</td>\n",
       "      <td>Worcester</td>\n",
       "      <td>N</td>\n",
       "      <td>N</td>\n",
       "      <td>POINT (-71.517285 42.137664)</td>\n",
       "    </tr>\n",
       "    <tr>\n",
       "      <th>2</th>\n",
       "      <td>05/24/2020</td>\n",
       "      <td>215044</td>\n",
       "      <td>ST. ELIZABETH REHAB. &amp; NSG. CE</td>\n",
       "      <td>3320 BENSON AVENUE</td>\n",
       "      <td>BALTIMORE</td>\n",
       "      <td>MD</td>\n",
       "      <td>21227</td>\n",
       "      <td>Y</td>\n",
       "      <td>Y</td>\n",
       "      <td>3.0</td>\n",
       "      <td>...</td>\n",
       "      <td>NaN</td>\n",
       "      <td>NaN</td>\n",
       "      <td>NaN</td>\n",
       "      <td>59.7</td>\n",
       "      <td>14.9</td>\n",
       "      <td>25.0</td>\n",
       "      <td>Baltimore City</td>\n",
       "      <td>NaN</td>\n",
       "      <td>NaN</td>\n",
       "      <td>POINT (-76.669529 39.268871)</td>\n",
       "    </tr>\n",
       "    <tr>\n",
       "      <th>3</th>\n",
       "      <td>07/12/2020</td>\n",
       "      <td>165255</td>\n",
       "      <td>CARLISLE CENTER FOR WELLNESS AND REHAB</td>\n",
       "      <td>680 COLE STREET</td>\n",
       "      <td>CARLISLE</td>\n",
       "      <td>IA</td>\n",
       "      <td>50047</td>\n",
       "      <td>Y</td>\n",
       "      <td>Y</td>\n",
       "      <td>0.0</td>\n",
       "      <td>...</td>\n",
       "      <td>NaN</td>\n",
       "      <td>NaN</td>\n",
       "      <td>NaN</td>\n",
       "      <td>0.0</td>\n",
       "      <td>0.0</td>\n",
       "      <td>NaN</td>\n",
       "      <td>Warren</td>\n",
       "      <td>N</td>\n",
       "      <td>N</td>\n",
       "      <td>POINT (-93.493113 41.495666)</td>\n",
       "    </tr>\n",
       "    <tr>\n",
       "      <th>4</th>\n",
       "      <td>05/31/2020</td>\n",
       "      <td>185222</td>\n",
       "      <td>GOOD SHEPHERD HEALTH AND REHABILITATION</td>\n",
       "      <td>60 PHILLIPS BRANCH ROAD</td>\n",
       "      <td>PHELPS</td>\n",
       "      <td>KY</td>\n",
       "      <td>41553</td>\n",
       "      <td>N</td>\n",
       "      <td>NaN</td>\n",
       "      <td>0.0</td>\n",
       "      <td>...</td>\n",
       "      <td>NaN</td>\n",
       "      <td>NaN</td>\n",
       "      <td>NaN</td>\n",
       "      <td>0.0</td>\n",
       "      <td>0.0</td>\n",
       "      <td>NaN</td>\n",
       "      <td>Pike</td>\n",
       "      <td>NaN</td>\n",
       "      <td>NaN</td>\n",
       "      <td>POINT (-82.137144 37.495937)</td>\n",
       "    </tr>\n",
       "  </tbody>\n",
       "</table>\n",
       "<p>5 rows × 59 columns</p>\n",
       "</div>"
      ],
      "text/plain": [
       "  Week Ending Federal Provider Number  \\\n",
       "0  07/12/2020                  215195   \n",
       "1  06/07/2020                  225260   \n",
       "2  05/24/2020                  215044   \n",
       "3  07/12/2020                  165255   \n",
       "4  05/31/2020                  185222   \n",
       "\n",
       "                             Provider Name           Provider Address  \\\n",
       "0     AUTUMN LAKE HEALTHCARE AT BRIDGEPARK  4017 LIBERTY HEIGHTS AVE.   \n",
       "1                  BLAIRE HOUSE OF MILFORD          20 CLAFLIN STREET   \n",
       "2           ST. ELIZABETH REHAB. & NSG. CE         3320 BENSON AVENUE   \n",
       "3   CARLISLE CENTER FOR WELLNESS AND REHAB            680 COLE STREET   \n",
       "4  GOOD SHEPHERD HEALTH AND REHABILITATION    60 PHILLIPS BRANCH ROAD   \n",
       "\n",
       "  Provider City Provider State  Provider Zip Code Submitted Data  \\\n",
       "0     BALTIMORE             MD              21207              Y   \n",
       "1       MILFORD             MA               1757              Y   \n",
       "2     BALTIMORE             MD              21227              Y   \n",
       "3      CARLISLE             IA              50047              Y   \n",
       "4        PHELPS             KY              41553              N   \n",
       "\n",
       "  Passed Quality Assurance Check  Residents Weekly Admissions COVID-19  ...  \\\n",
       "0                              Y                                   0.0  ...   \n",
       "1                              Y                                   2.0  ...   \n",
       "2                              Y                                   3.0  ...   \n",
       "3                              Y                                   0.0  ...   \n",
       "4                            NaN                                   0.0  ...   \n",
       "\n",
       "   Number of Ventilators in Use for COVID-19  \\\n",
       "0                                        0.0   \n",
       "1                                        NaN   \n",
       "2                                        NaN   \n",
       "3                                        NaN   \n",
       "4                                        NaN   \n",
       "\n",
       "   Any Current Supply of Ventilator Supplies  \\\n",
       "0                                          Y   \n",
       "1                                        NaN   \n",
       "2                                        NaN   \n",
       "3                                        NaN   \n",
       "4                                        NaN   \n",
       "\n",
       "   One-Week Supply of Ventilator Supplies  \\\n",
       "0                                       Y   \n",
       "1                                     NaN   \n",
       "2                                     NaN   \n",
       "3                                     NaN   \n",
       "4                                     NaN   \n",
       "\n",
       "   Total Resident Confirmed COVID-19 Cases Per 1,000 Residents  \\\n",
       "0                                              756.4             \n",
       "1                                               97.6             \n",
       "2                                               59.7             \n",
       "3                                                0.0             \n",
       "4                                                0.0             \n",
       "\n",
       "   Total Resident COVID-19 Deaths Per 1,000 Residents  \\\n",
       "0                                               89.7    \n",
       "1                                              146.3    \n",
       "2                                               14.9    \n",
       "3                                                0.0    \n",
       "4                                                0.0    \n",
       "\n",
       "   Total Residents COVID-19 Deaths as a Percentage of Confirmed COVID-19 Cases  \\\n",
       "0                                               11.9                             \n",
       "1                                              150.0                             \n",
       "2                                               25.0                             \n",
       "3                                                NaN                             \n",
       "4                                                NaN                             \n",
       "\n",
       "           County  \\\n",
       "0  Baltimore City   \n",
       "1       Worcester   \n",
       "2  Baltimore City   \n",
       "3          Warren   \n",
       "4            Pike   \n",
       "\n",
       "   Three or More Confirmed and Suspected COVID-19 Cases This Week  \\\n",
       "0                                                  N                \n",
       "1                                                  N                \n",
       "2                                                NaN                \n",
       "3                                                  N                \n",
       "4                                                NaN                \n",
       "\n",
       "   Initial Confirmed COVID-19 Case This Week                   Geolocation  \n",
       "0                                          N  POINT (-76.687185 39.328731)  \n",
       "1                                          N  POINT (-71.517285 42.137664)  \n",
       "2                                        NaN  POINT (-76.669529 39.268871)  \n",
       "3                                          N  POINT (-93.493113 41.495666)  \n",
       "4                                        NaN  POINT (-82.137144 37.495937)  \n",
       "\n",
       "[5 rows x 59 columns]"
      ]
     },
     "execution_count": 4,
     "metadata": {},
     "output_type": "execute_result"
    }
   ],
   "source": [
    "# show the first 5 rows of the dataset\n",
    "df_covid19.head() "
   ]
  },
  {
   "cell_type": "code",
   "execution_count": 5,
   "metadata": {},
   "outputs": [
    {
     "name": "stdout",
     "output_type": "stream",
     "text": [
      "<class 'pandas.core.frame.DataFrame'>\n",
      "RangeIndex: 123143 entries, 0 to 123142\n",
      "Data columns (total 59 columns):\n",
      " #   Column                                                                       Non-Null Count   Dtype  \n",
      "---  ------                                                                       --------------   -----  \n",
      " 0   Week Ending                                                                  123143 non-null  object \n",
      " 1   Federal Provider Number                                                      123143 non-null  object \n",
      " 2   Provider Name                                                                123143 non-null  object \n",
      " 3   Provider Address                                                             123143 non-null  object \n",
      " 4   Provider City                                                                123143 non-null  object \n",
      " 5   Provider State                                                               123143 non-null  object \n",
      " 6   Provider Zip Code                                                            123143 non-null  int64  \n",
      " 7   Submitted Data                                                               123143 non-null  object \n",
      " 8   Passed Quality Assurance Check                                               119699 non-null  object \n",
      " 9   Residents Weekly Admissions COVID-19                                         119224 non-null  float64\n",
      " 10  Residents Total Admissions COVID-19                                          119224 non-null  float64\n",
      " 11  Residents Weekly Confirmed COVID-19                                          119224 non-null  float64\n",
      " 12  Residents Total Confirmed COVID-19                                           119224 non-null  float64\n",
      " 13  Residents Weekly Suspected COVID-19                                          119224 non-null  float64\n",
      " 14  Residents Total Suspected COVID-19                                           119224 non-null  float64\n",
      " 15  Residents Weekly All Deaths                                                  119224 non-null  float64\n",
      " 16  Residents Total All Deaths                                                   119224 non-null  float64\n",
      " 17  Residents Weekly COVID-19 Deaths                                             119224 non-null  float64\n",
      " 18  Residents Total COVID-19 Deaths                                              119224 non-null  float64\n",
      " 19  Number of All Beds                                                           118002 non-null  float64\n",
      " 20  Total Number of Occupied Beds                                                118973 non-null  float64\n",
      " 21  Resident Access to Testing in Facility                                       118083 non-null  object \n",
      " 22  Laboratory Type Is State Health Dept                                         118083 non-null  object \n",
      " 23  Laboratory Type Is Private Lab                                               118083 non-null  object \n",
      " 24  Laboratory Type Is Other                                                     118083 non-null  object \n",
      " 25  Staff Weekly Confirmed COVID-19                                              119224 non-null  float64\n",
      " 26  Staff Total Confirmed COVID-19                                               119224 non-null  float64\n",
      " 27  Staff Weekly Suspected COVID-19                                              119224 non-null  float64\n",
      " 28  Staff Total Suspected COVID-19                                               119224 non-null  float64\n",
      " 29  Staff Weekly COVID-19 Deaths                                                 119224 non-null  float64\n",
      " 30  Staff Total COVID-19 Deaths                                                  119224 non-null  float64\n",
      " 31  Shortage of Nursing Staff                                                    117632 non-null  object \n",
      " 32  Shortage of Clinical Staff                                                   117630 non-null  object \n",
      " 33  Shortage of Aides                                                            117633 non-null  object \n",
      " 34  Shortage of Other Staff                                                      117628 non-null  object \n",
      " 35  Any Current Supply of N95 Masks                                              117543 non-null  object \n",
      " 36  One-Week Supply of N95 Masks                                                 117542 non-null  object \n",
      " 37  Any Current Supply of Surgical Masks                                         117541 non-null  object \n",
      " 38  One-Week Supply of Surgical Masks                                            117542 non-null  object \n",
      " 39  Any Current Supply of Eye Protection                                         117542 non-null  object \n",
      " 40  One-Week Supply of Eye Protection                                            117542 non-null  object \n",
      " 41  Any Current Supply of Gowns                                                  117542 non-null  object \n",
      " 42  One-Week Supply of Gowns                                                     117541 non-null  object \n",
      " 43  Any Current Supply of Gloves                                                 117540 non-null  object \n",
      " 44  One-Week Supply of Gloves                                                    117542 non-null  object \n",
      " 45  Any Current Supply of Hand Sanitizer                                         117539 non-null  object \n",
      " 46  One-Week Supply of Hand Sanitizer                                            117535 non-null  object \n",
      " 47  Ventilator Dependent Unit                                                    115555 non-null  object \n",
      " 48  Number of Ventilators in Facility                                            4401 non-null    float64\n",
      " 49  Number of Ventilators in Use for COVID-19                                    4397 non-null    float64\n",
      " 50  Any Current Supply of Ventilator Supplies                                    4401 non-null    object \n",
      " 51  One-Week Supply of Ventilator Supplies                                       4403 non-null    object \n",
      " 52  Total Resident Confirmed COVID-19 Cases Per 1,000 Residents                  118622 non-null  float64\n",
      " 53  Total Resident COVID-19 Deaths Per 1,000 Residents                           118622 non-null  float64\n",
      " 54  Total Residents COVID-19 Deaths as a Percentage of Confirmed COVID-19 Cases  42324 non-null   float64\n",
      " 55  County                                                                       123143 non-null  object \n",
      " 56  Three or More Confirmed and Suspected COVID-19 Cases This Week               103811 non-null  object \n",
      " 57  Initial Confirmed COVID-19 Case This Week                                    103810 non-null  object \n",
      " 58  Geolocation                                                                  116610 non-null  object \n",
      "dtypes: float64(23), int64(1), object(35)\n",
      "memory usage: 55.4+ MB\n"
     ]
    }
   ],
   "source": [
    "# Show summary of the dataset. The dtype of this dataset includes integer, float, and object.\n",
    "df_covid19.info()"
   ]
  },
  {
   "cell_type": "code",
   "execution_count": 6,
   "metadata": {
    "scrolled": true
   },
   "outputs": [
    {
     "data": {
      "text/html": [
       "<div>\n",
       "<style scoped>\n",
       "    .dataframe tbody tr th:only-of-type {\n",
       "        vertical-align: middle;\n",
       "    }\n",
       "\n",
       "    .dataframe tbody tr th {\n",
       "        vertical-align: top;\n",
       "    }\n",
       "\n",
       "    .dataframe thead th {\n",
       "        text-align: right;\n",
       "    }\n",
       "</style>\n",
       "<table border=\"1\" class=\"dataframe\">\n",
       "  <thead>\n",
       "    <tr style=\"text-align: right;\">\n",
       "      <th></th>\n",
       "      <th>Provider Zip Code</th>\n",
       "      <th>Residents Weekly Admissions COVID-19</th>\n",
       "      <th>Residents Total Admissions COVID-19</th>\n",
       "      <th>Residents Weekly Confirmed COVID-19</th>\n",
       "      <th>Residents Total Confirmed COVID-19</th>\n",
       "      <th>Residents Weekly Suspected COVID-19</th>\n",
       "      <th>Residents Total Suspected COVID-19</th>\n",
       "      <th>Residents Weekly All Deaths</th>\n",
       "      <th>Residents Total All Deaths</th>\n",
       "      <th>Residents Weekly COVID-19 Deaths</th>\n",
       "      <th>...</th>\n",
       "      <th>Staff Total Confirmed COVID-19</th>\n",
       "      <th>Staff Weekly Suspected COVID-19</th>\n",
       "      <th>Staff Total Suspected COVID-19</th>\n",
       "      <th>Staff Weekly COVID-19 Deaths</th>\n",
       "      <th>Staff Total COVID-19 Deaths</th>\n",
       "      <th>Number of Ventilators in Facility</th>\n",
       "      <th>Number of Ventilators in Use for COVID-19</th>\n",
       "      <th>Total Resident Confirmed COVID-19 Cases Per 1,000 Residents</th>\n",
       "      <th>Total Resident COVID-19 Deaths Per 1,000 Residents</th>\n",
       "      <th>Total Residents COVID-19 Deaths as a Percentage of Confirmed COVID-19 Cases</th>\n",
       "    </tr>\n",
       "  </thead>\n",
       "  <tbody>\n",
       "    <tr>\n",
       "      <th>count</th>\n",
       "      <td>123143.000000</td>\n",
       "      <td>119224.000000</td>\n",
       "      <td>119224.000000</td>\n",
       "      <td>119224.000000</td>\n",
       "      <td>119224.000000</td>\n",
       "      <td>119224.000000</td>\n",
       "      <td>119224.000000</td>\n",
       "      <td>119224.000000</td>\n",
       "      <td>119224.000000</td>\n",
       "      <td>119224.000000</td>\n",
       "      <td>...</td>\n",
       "      <td>119224.000000</td>\n",
       "      <td>119224.000000</td>\n",
       "      <td>119224.000000</td>\n",
       "      <td>119224.000000</td>\n",
       "      <td>119224.000000</td>\n",
       "      <td>4401.000000</td>\n",
       "      <td>4397.000000</td>\n",
       "      <td>118622.000000</td>\n",
       "      <td>118622.000000</td>\n",
       "      <td>42324.000000</td>\n",
       "    </tr>\n",
       "    <tr>\n",
       "      <th>mean</th>\n",
       "      <td>50334.207523</td>\n",
       "      <td>0.499958</td>\n",
       "      <td>3.006567</td>\n",
       "      <td>1.192973</td>\n",
       "      <td>7.755091</td>\n",
       "      <td>0.759914</td>\n",
       "      <td>4.706536</td>\n",
       "      <td>1.103620</td>\n",
       "      <td>6.820489</td>\n",
       "      <td>0.323073</td>\n",
       "      <td>...</td>\n",
       "      <td>4.993869</td>\n",
       "      <td>0.774500</td>\n",
       "      <td>4.694801</td>\n",
       "      <td>0.006375</td>\n",
       "      <td>0.038667</td>\n",
       "      <td>18.160873</td>\n",
       "      <td>2.692518</td>\n",
       "      <td>96.714207</td>\n",
       "      <td>27.179468</td>\n",
       "      <td>39.148079</td>\n",
       "    </tr>\n",
       "    <tr>\n",
       "      <th>std</th>\n",
       "      <td>26870.572193</td>\n",
       "      <td>2.871143</td>\n",
       "      <td>9.465077</td>\n",
       "      <td>6.747503</td>\n",
       "      <td>19.600166</td>\n",
       "      <td>4.791565</td>\n",
       "      <td>14.557006</td>\n",
       "      <td>5.365655</td>\n",
       "      <td>19.176798</td>\n",
       "      <td>2.141717</td>\n",
       "      <td>...</td>\n",
       "      <td>11.564300</td>\n",
       "      <td>12.123075</td>\n",
       "      <td>35.206590</td>\n",
       "      <td>0.136308</td>\n",
       "      <td>0.364773</td>\n",
       "      <td>15.975764</td>\n",
       "      <td>7.807690</td>\n",
       "      <td>248.002195</td>\n",
       "      <td>80.371290</td>\n",
       "      <td>157.089631</td>\n",
       "    </tr>\n",
       "    <tr>\n",
       "      <th>min</th>\n",
       "      <td>660.000000</td>\n",
       "      <td>0.000000</td>\n",
       "      <td>0.000000</td>\n",
       "      <td>0.000000</td>\n",
       "      <td>0.000000</td>\n",
       "      <td>0.000000</td>\n",
       "      <td>0.000000</td>\n",
       "      <td>0.000000</td>\n",
       "      <td>0.000000</td>\n",
       "      <td>0.000000</td>\n",
       "      <td>...</td>\n",
       "      <td>0.000000</td>\n",
       "      <td>0.000000</td>\n",
       "      <td>0.000000</td>\n",
       "      <td>0.000000</td>\n",
       "      <td>0.000000</td>\n",
       "      <td>0.000000</td>\n",
       "      <td>0.000000</td>\n",
       "      <td>0.000000</td>\n",
       "      <td>0.000000</td>\n",
       "      <td>0.000000</td>\n",
       "    </tr>\n",
       "    <tr>\n",
       "      <th>25%</th>\n",
       "      <td>29803.000000</td>\n",
       "      <td>0.000000</td>\n",
       "      <td>0.000000</td>\n",
       "      <td>0.000000</td>\n",
       "      <td>0.000000</td>\n",
       "      <td>0.000000</td>\n",
       "      <td>0.000000</td>\n",
       "      <td>0.000000</td>\n",
       "      <td>0.000000</td>\n",
       "      <td>0.000000</td>\n",
       "      <td>...</td>\n",
       "      <td>0.000000</td>\n",
       "      <td>0.000000</td>\n",
       "      <td>0.000000</td>\n",
       "      <td>0.000000</td>\n",
       "      <td>0.000000</td>\n",
       "      <td>7.000000</td>\n",
       "      <td>0.000000</td>\n",
       "      <td>0.000000</td>\n",
       "      <td>0.000000</td>\n",
       "      <td>0.000000</td>\n",
       "    </tr>\n",
       "    <tr>\n",
       "      <th>50%</th>\n",
       "      <td>48855.000000</td>\n",
       "      <td>0.000000</td>\n",
       "      <td>0.000000</td>\n",
       "      <td>0.000000</td>\n",
       "      <td>0.000000</td>\n",
       "      <td>0.000000</td>\n",
       "      <td>0.000000</td>\n",
       "      <td>0.000000</td>\n",
       "      <td>2.000000</td>\n",
       "      <td>0.000000</td>\n",
       "      <td>...</td>\n",
       "      <td>0.000000</td>\n",
       "      <td>0.000000</td>\n",
       "      <td>0.000000</td>\n",
       "      <td>0.000000</td>\n",
       "      <td>0.000000</td>\n",
       "      <td>14.000000</td>\n",
       "      <td>0.000000</td>\n",
       "      <td>0.000000</td>\n",
       "      <td>0.000000</td>\n",
       "      <td>14.700000</td>\n",
       "    </tr>\n",
       "    <tr>\n",
       "      <th>75%</th>\n",
       "      <td>72855.000000</td>\n",
       "      <td>0.000000</td>\n",
       "      <td>1.000000</td>\n",
       "      <td>0.000000</td>\n",
       "      <td>3.000000</td>\n",
       "      <td>0.000000</td>\n",
       "      <td>3.000000</td>\n",
       "      <td>1.000000</td>\n",
       "      <td>8.000000</td>\n",
       "      <td>0.000000</td>\n",
       "      <td>...</td>\n",
       "      <td>4.000000</td>\n",
       "      <td>0.000000</td>\n",
       "      <td>3.000000</td>\n",
       "      <td>0.000000</td>\n",
       "      <td>0.000000</td>\n",
       "      <td>25.000000</td>\n",
       "      <td>0.000000</td>\n",
       "      <td>37.000000</td>\n",
       "      <td>0.000000</td>\n",
       "      <td>34.700000</td>\n",
       "    </tr>\n",
       "    <tr>\n",
       "      <th>max</th>\n",
       "      <td>99929.000000</td>\n",
       "      <td>224.000000</td>\n",
       "      <td>249.000000</td>\n",
       "      <td>222.000000</td>\n",
       "      <td>318.000000</td>\n",
       "      <td>289.000000</td>\n",
       "      <td>453.000000</td>\n",
       "      <td>522.000000</td>\n",
       "      <td>1552.000000</td>\n",
       "      <td>91.000000</td>\n",
       "      <td>...</td>\n",
       "      <td>289.000000</td>\n",
       "      <td>3728.000000</td>\n",
       "      <td>3731.000000</td>\n",
       "      <td>11.000000</td>\n",
       "      <td>22.000000</td>\n",
       "      <td>141.000000</td>\n",
       "      <td>102.000000</td>\n",
       "      <td>12000.000000</td>\n",
       "      <td>3000.000000</td>\n",
       "      <td>8600.000000</td>\n",
       "    </tr>\n",
       "  </tbody>\n",
       "</table>\n",
       "<p>8 rows × 24 columns</p>\n",
       "</div>"
      ],
      "text/plain": [
       "       Provider Zip Code  Residents Weekly Admissions COVID-19  \\\n",
       "count      123143.000000                         119224.000000   \n",
       "mean        50334.207523                              0.499958   \n",
       "std         26870.572193                              2.871143   \n",
       "min           660.000000                              0.000000   \n",
       "25%         29803.000000                              0.000000   \n",
       "50%         48855.000000                              0.000000   \n",
       "75%         72855.000000                              0.000000   \n",
       "max         99929.000000                            224.000000   \n",
       "\n",
       "       Residents Total Admissions COVID-19  \\\n",
       "count                        119224.000000   \n",
       "mean                              3.006567   \n",
       "std                               9.465077   \n",
       "min                               0.000000   \n",
       "25%                               0.000000   \n",
       "50%                               0.000000   \n",
       "75%                               1.000000   \n",
       "max                             249.000000   \n",
       "\n",
       "       Residents Weekly Confirmed COVID-19  \\\n",
       "count                        119224.000000   \n",
       "mean                              1.192973   \n",
       "std                               6.747503   \n",
       "min                               0.000000   \n",
       "25%                               0.000000   \n",
       "50%                               0.000000   \n",
       "75%                               0.000000   \n",
       "max                             222.000000   \n",
       "\n",
       "       Residents Total Confirmed COVID-19  \\\n",
       "count                       119224.000000   \n",
       "mean                             7.755091   \n",
       "std                             19.600166   \n",
       "min                              0.000000   \n",
       "25%                              0.000000   \n",
       "50%                              0.000000   \n",
       "75%                              3.000000   \n",
       "max                            318.000000   \n",
       "\n",
       "       Residents Weekly Suspected COVID-19  \\\n",
       "count                        119224.000000   \n",
       "mean                              0.759914   \n",
       "std                               4.791565   \n",
       "min                               0.000000   \n",
       "25%                               0.000000   \n",
       "50%                               0.000000   \n",
       "75%                               0.000000   \n",
       "max                             289.000000   \n",
       "\n",
       "       Residents Total Suspected COVID-19  Residents Weekly All Deaths  \\\n",
       "count                       119224.000000                119224.000000   \n",
       "mean                             4.706536                     1.103620   \n",
       "std                             14.557006                     5.365655   \n",
       "min                              0.000000                     0.000000   \n",
       "25%                              0.000000                     0.000000   \n",
       "50%                              0.000000                     0.000000   \n",
       "75%                              3.000000                     1.000000   \n",
       "max                            453.000000                   522.000000   \n",
       "\n",
       "       Residents Total All Deaths  Residents Weekly COVID-19 Deaths  ...  \\\n",
       "count               119224.000000                     119224.000000  ...   \n",
       "mean                     6.820489                          0.323073  ...   \n",
       "std                     19.176798                          2.141717  ...   \n",
       "min                      0.000000                          0.000000  ...   \n",
       "25%                      0.000000                          0.000000  ...   \n",
       "50%                      2.000000                          0.000000  ...   \n",
       "75%                      8.000000                          0.000000  ...   \n",
       "max                   1552.000000                         91.000000  ...   \n",
       "\n",
       "       Staff Total Confirmed COVID-19  Staff Weekly Suspected COVID-19  \\\n",
       "count                   119224.000000                    119224.000000   \n",
       "mean                         4.993869                         0.774500   \n",
       "std                         11.564300                        12.123075   \n",
       "min                          0.000000                         0.000000   \n",
       "25%                          0.000000                         0.000000   \n",
       "50%                          0.000000                         0.000000   \n",
       "75%                          4.000000                         0.000000   \n",
       "max                        289.000000                      3728.000000   \n",
       "\n",
       "       Staff Total Suspected COVID-19  Staff Weekly COVID-19 Deaths  \\\n",
       "count                   119224.000000                 119224.000000   \n",
       "mean                         4.694801                      0.006375   \n",
       "std                         35.206590                      0.136308   \n",
       "min                          0.000000                      0.000000   \n",
       "25%                          0.000000                      0.000000   \n",
       "50%                          0.000000                      0.000000   \n",
       "75%                          3.000000                      0.000000   \n",
       "max                       3731.000000                     11.000000   \n",
       "\n",
       "       Staff Total COVID-19 Deaths  Number of Ventilators in Facility  \\\n",
       "count                119224.000000                        4401.000000   \n",
       "mean                      0.038667                          18.160873   \n",
       "std                       0.364773                          15.975764   \n",
       "min                       0.000000                           0.000000   \n",
       "25%                       0.000000                           7.000000   \n",
       "50%                       0.000000                          14.000000   \n",
       "75%                       0.000000                          25.000000   \n",
       "max                      22.000000                         141.000000   \n",
       "\n",
       "       Number of Ventilators in Use for COVID-19  \\\n",
       "count                                4397.000000   \n",
       "mean                                    2.692518   \n",
       "std                                     7.807690   \n",
       "min                                     0.000000   \n",
       "25%                                     0.000000   \n",
       "50%                                     0.000000   \n",
       "75%                                     0.000000   \n",
       "max                                   102.000000   \n",
       "\n",
       "       Total Resident Confirmed COVID-19 Cases Per 1,000 Residents  \\\n",
       "count                                      118622.000000             \n",
       "mean                                           96.714207             \n",
       "std                                           248.002195             \n",
       "min                                             0.000000             \n",
       "25%                                             0.000000             \n",
       "50%                                             0.000000             \n",
       "75%                                            37.000000             \n",
       "max                                         12000.000000             \n",
       "\n",
       "       Total Resident COVID-19 Deaths Per 1,000 Residents  \\\n",
       "count                                      118622.000000    \n",
       "mean                                           27.179468    \n",
       "std                                            80.371290    \n",
       "min                                             0.000000    \n",
       "25%                                             0.000000    \n",
       "50%                                             0.000000    \n",
       "75%                                             0.000000    \n",
       "max                                          3000.000000    \n",
       "\n",
       "       Total Residents COVID-19 Deaths as a Percentage of Confirmed COVID-19 Cases  \n",
       "count                                       42324.000000                            \n",
       "mean                                           39.148079                            \n",
       "std                                           157.089631                            \n",
       "min                                             0.000000                            \n",
       "25%                                             0.000000                            \n",
       "50%                                            14.700000                            \n",
       "75%                                            34.700000                            \n",
       "max                                          8600.000000                            \n",
       "\n",
       "[8 rows x 24 columns]"
      ]
     },
     "execution_count": 6,
     "metadata": {},
     "output_type": "execute_result"
    }
   ],
   "source": [
    "# Display the descriptive statistics.\n",
    "df_covid19.describe()"
   ]
  },
  {
   "cell_type": "markdown",
   "metadata": {},
   "source": [
    "### Part 3: Identifying Numerical and Categorical data"
   ]
  },
  {
   "cell_type": "code",
   "execution_count": 7,
   "metadata": {},
   "outputs": [
    {
     "data": {
      "text/plain": [
       "Index(['Week Ending', 'Federal Provider Number', 'Provider Name',\n",
       "       'Provider Address', 'Provider City', 'Provider State',\n",
       "       'Provider Zip Code', 'Submitted Data', 'Passed Quality Assurance Check',\n",
       "       'Residents Weekly Admissions COVID-19',\n",
       "       'Residents Total Admissions COVID-19',\n",
       "       'Residents Weekly Confirmed COVID-19',\n",
       "       'Residents Total Confirmed COVID-19',\n",
       "       'Residents Weekly Suspected COVID-19',\n",
       "       'Residents Total Suspected COVID-19', 'Residents Weekly All Deaths',\n",
       "       'Residents Total All Deaths', 'Residents Weekly COVID-19 Deaths',\n",
       "       'Residents Total COVID-19 Deaths', 'Number of All Beds',\n",
       "       'Total Number of Occupied Beds',\n",
       "       'Resident Access to Testing in Facility',\n",
       "       'Laboratory Type Is State Health Dept',\n",
       "       'Laboratory Type Is Private Lab', 'Laboratory Type Is Other',\n",
       "       'Staff Weekly Confirmed COVID-19', 'Staff Total Confirmed COVID-19',\n",
       "       'Staff Weekly Suspected COVID-19', 'Staff Total Suspected COVID-19',\n",
       "       'Staff Weekly COVID-19 Deaths', 'Staff Total COVID-19 Deaths',\n",
       "       'Shortage of Nursing Staff', 'Shortage of Clinical Staff',\n",
       "       'Shortage of Aides', 'Shortage of Other Staff',\n",
       "       'Any Current Supply of N95 Masks', 'One-Week Supply of N95 Masks',\n",
       "       'Any Current Supply of Surgical Masks',\n",
       "       'One-Week Supply of Surgical Masks',\n",
       "       'Any Current Supply of Eye Protection',\n",
       "       'One-Week Supply of Eye Protection', 'Any Current Supply of Gowns',\n",
       "       'One-Week Supply of Gowns', 'Any Current Supply of Gloves',\n",
       "       'One-Week Supply of Gloves', 'Any Current Supply of Hand Sanitizer',\n",
       "       'One-Week Supply of Hand Sanitizer', 'Ventilator Dependent Unit',\n",
       "       'Number of Ventilators in Facility',\n",
       "       'Number of Ventilators in Use for COVID-19',\n",
       "       'Any Current Supply of Ventilator Supplies',\n",
       "       'One-Week Supply of Ventilator Supplies',\n",
       "       'Total Resident Confirmed COVID-19 Cases Per 1,000 Residents',\n",
       "       'Total Resident COVID-19 Deaths Per 1,000 Residents',\n",
       "       'Total Residents COVID-19 Deaths as a Percentage of Confirmed COVID-19 Cases',\n",
       "       'County',\n",
       "       'Three or More Confirmed and Suspected COVID-19 Cases This Week',\n",
       "       'Initial Confirmed COVID-19 Case This Week', 'Geolocation'],\n",
       "      dtype='object')"
      ]
     },
     "execution_count": 7,
     "metadata": {},
     "output_type": "execute_result"
    }
   ],
   "source": [
    "#Looking at column names closely\n",
    "df_covid19.columns"
   ]
  },
  {
   "cell_type": "code",
   "execution_count": 8,
   "metadata": {
    "scrolled": true
   },
   "outputs": [],
   "source": [
    "# Fix the space issues in column names\n",
    "df_covid19.columns = df_covid19.columns.str.replace(\" \", \"\") #Remove the space"
   ]
  },
  {
   "cell_type": "code",
   "execution_count": 9,
   "metadata": {},
   "outputs": [
    {
     "data": {
      "text/plain": [
       "Index(['WeekEnding', 'FederalProviderNumber', 'ProviderName',\n",
       "       'ProviderAddress', 'ProviderCity', 'ProviderState', 'ProviderZipCode',\n",
       "       'SubmittedData', 'PassedQualityAssuranceCheck',\n",
       "       'ResidentsWeeklyAdmissionsCOVID-19', 'ResidentsTotalAdmissionsCOVID-19',\n",
       "       'ResidentsWeeklyConfirmedCOVID-19', 'ResidentsTotalConfirmedCOVID-19',\n",
       "       'ResidentsWeeklySuspectedCOVID-19', 'ResidentsTotalSuspectedCOVID-19',\n",
       "       'ResidentsWeeklyAllDeaths', 'ResidentsTotalAllDeaths',\n",
       "       'ResidentsWeeklyCOVID-19Deaths', 'ResidentsTotalCOVID-19Deaths',\n",
       "       'NumberofAllBeds', 'TotalNumberofOccupiedBeds',\n",
       "       'ResidentAccesstoTestinginFacility', 'LaboratoryTypeIsStateHealthDept',\n",
       "       'LaboratoryTypeIsPrivateLab', 'LaboratoryTypeIsOther',\n",
       "       'StaffWeeklyConfirmedCOVID-19', 'StaffTotalConfirmedCOVID-19',\n",
       "       'StaffWeeklySuspectedCOVID-19', 'StaffTotalSuspectedCOVID-19',\n",
       "       'StaffWeeklyCOVID-19Deaths', 'StaffTotalCOVID-19Deaths',\n",
       "       'ShortageofNursingStaff', 'ShortageofClinicalStaff', 'ShortageofAides',\n",
       "       'ShortageofOtherStaff', 'AnyCurrentSupplyofN95Masks',\n",
       "       'One-WeekSupplyofN95Masks', 'AnyCurrentSupplyofSurgicalMasks',\n",
       "       'One-WeekSupplyofSurgicalMasks', 'AnyCurrentSupplyofEyeProtection',\n",
       "       'One-WeekSupplyofEyeProtection', 'AnyCurrentSupplyofGowns',\n",
       "       'One-WeekSupplyofGowns', 'AnyCurrentSupplyofGloves',\n",
       "       'One-WeekSupplyofGloves', 'AnyCurrentSupplyofHandSanitizer',\n",
       "       'One-WeekSupplyofHandSanitizer', 'VentilatorDependentUnit',\n",
       "       'NumberofVentilatorsinFacility', 'NumberofVentilatorsinUseforCOVID-19',\n",
       "       'AnyCurrentSupplyofVentilatorSupplies',\n",
       "       'One-WeekSupplyofVentilatorSupplies',\n",
       "       'TotalResidentConfirmedCOVID-19CasesPer1,000Residents',\n",
       "       'TotalResidentCOVID-19DeathsPer1,000Residents',\n",
       "       'TotalResidentsCOVID-19DeathsasaPercentageofConfirmedCOVID-19Cases',\n",
       "       'County', 'ThreeorMoreConfirmedandSuspectedCOVID-19CasesThisWeek',\n",
       "       'InitialConfirmedCOVID-19CaseThisWeek', 'Geolocation'],\n",
       "      dtype='object')"
      ]
     },
     "execution_count": 9,
     "metadata": {},
     "output_type": "execute_result"
    }
   ],
   "source": [
    "# Check if space got removed\n",
    "df_covid19.columns"
   ]
  },
  {
   "cell_type": "code",
   "execution_count": 10,
   "metadata": {},
   "outputs": [],
   "source": [
    "# Convert 'Y/N' indicators to '1/0'\n",
    "df_covid19 = df_covid19.replace(to_replace = \"Y\", value = '1')\n",
    "df_covid19 = df_covid19.replace(to_replace = \"N\", value = '0')\n"
   ]
  },
  {
   "cell_type": "code",
   "execution_count": 11,
   "metadata": {},
   "outputs": [],
   "source": [
    "# Convert ProviderZipCode astype to object\n",
    "df_covid19.ProviderZipCode = df_covid19.ProviderZipCode.astype('object')\n"
   ]
  },
  {
   "cell_type": "code",
   "execution_count": 12,
   "metadata": {},
   "outputs": [
    {
     "name": "stdout",
     "output_type": "stream",
     "text": [
      "<class 'pandas.core.frame.DataFrame'>\n",
      "RangeIndex: 123143 entries, 0 to 123142\n",
      "Data columns (total 59 columns):\n",
      " #   Column                                                             Non-Null Count   Dtype  \n",
      "---  ------                                                             --------------   -----  \n",
      " 0   WeekEnding                                                         123143 non-null  object \n",
      " 1   FederalProviderNumber                                              123143 non-null  object \n",
      " 2   ProviderName                                                       123143 non-null  object \n",
      " 3   ProviderAddress                                                    123143 non-null  object \n",
      " 4   ProviderCity                                                       123143 non-null  object \n",
      " 5   ProviderState                                                      123143 non-null  object \n",
      " 6   ProviderZipCode                                                    123143 non-null  object \n",
      " 7   SubmittedData                                                      123143 non-null  object \n",
      " 8   PassedQualityAssuranceCheck                                        119699 non-null  object \n",
      " 9   ResidentsWeeklyAdmissionsCOVID-19                                  119224 non-null  float64\n",
      " 10  ResidentsTotalAdmissionsCOVID-19                                   119224 non-null  float64\n",
      " 11  ResidentsWeeklyConfirmedCOVID-19                                   119224 non-null  float64\n",
      " 12  ResidentsTotalConfirmedCOVID-19                                    119224 non-null  float64\n",
      " 13  ResidentsWeeklySuspectedCOVID-19                                   119224 non-null  float64\n",
      " 14  ResidentsTotalSuspectedCOVID-19                                    119224 non-null  float64\n",
      " 15  ResidentsWeeklyAllDeaths                                           119224 non-null  float64\n",
      " 16  ResidentsTotalAllDeaths                                            119224 non-null  float64\n",
      " 17  ResidentsWeeklyCOVID-19Deaths                                      119224 non-null  float64\n",
      " 18  ResidentsTotalCOVID-19Deaths                                       119224 non-null  float64\n",
      " 19  NumberofAllBeds                                                    118002 non-null  float64\n",
      " 20  TotalNumberofOccupiedBeds                                          118973 non-null  float64\n",
      " 21  ResidentAccesstoTestinginFacility                                  118083 non-null  object \n",
      " 22  LaboratoryTypeIsStateHealthDept                                    118083 non-null  object \n",
      " 23  LaboratoryTypeIsPrivateLab                                         118083 non-null  object \n",
      " 24  LaboratoryTypeIsOther                                              118083 non-null  object \n",
      " 25  StaffWeeklyConfirmedCOVID-19                                       119224 non-null  float64\n",
      " 26  StaffTotalConfirmedCOVID-19                                        119224 non-null  float64\n",
      " 27  StaffWeeklySuspectedCOVID-19                                       119224 non-null  float64\n",
      " 28  StaffTotalSuspectedCOVID-19                                        119224 non-null  float64\n",
      " 29  StaffWeeklyCOVID-19Deaths                                          119224 non-null  float64\n",
      " 30  StaffTotalCOVID-19Deaths                                           119224 non-null  float64\n",
      " 31  ShortageofNursingStaff                                             117632 non-null  object \n",
      " 32  ShortageofClinicalStaff                                            117630 non-null  object \n",
      " 33  ShortageofAides                                                    117633 non-null  object \n",
      " 34  ShortageofOtherStaff                                               117628 non-null  object \n",
      " 35  AnyCurrentSupplyofN95Masks                                         117543 non-null  object \n",
      " 36  One-WeekSupplyofN95Masks                                           117542 non-null  object \n",
      " 37  AnyCurrentSupplyofSurgicalMasks                                    117541 non-null  object \n",
      " 38  One-WeekSupplyofSurgicalMasks                                      117542 non-null  object \n",
      " 39  AnyCurrentSupplyofEyeProtection                                    117542 non-null  object \n",
      " 40  One-WeekSupplyofEyeProtection                                      117542 non-null  object \n",
      " 41  AnyCurrentSupplyofGowns                                            117542 non-null  object \n",
      " 42  One-WeekSupplyofGowns                                              117541 non-null  object \n",
      " 43  AnyCurrentSupplyofGloves                                           117540 non-null  object \n",
      " 44  One-WeekSupplyofGloves                                             117542 non-null  object \n",
      " 45  AnyCurrentSupplyofHandSanitizer                                    117539 non-null  object \n",
      " 46  One-WeekSupplyofHandSanitizer                                      117535 non-null  object \n",
      " 47  VentilatorDependentUnit                                            115555 non-null  object \n",
      " 48  NumberofVentilatorsinFacility                                      4401 non-null    float64\n",
      " 49  NumberofVentilatorsinUseforCOVID-19                                4397 non-null    float64\n",
      " 50  AnyCurrentSupplyofVentilatorSupplies                               4401 non-null    object \n",
      " 51  One-WeekSupplyofVentilatorSupplies                                 4403 non-null    object \n",
      " 52  TotalResidentConfirmedCOVID-19CasesPer1,000Residents               118622 non-null  float64\n",
      " 53  TotalResidentCOVID-19DeathsPer1,000Residents                       118622 non-null  float64\n",
      " 54  TotalResidentsCOVID-19DeathsasaPercentageofConfirmedCOVID-19Cases  42324 non-null   float64\n",
      " 55  County                                                             123143 non-null  object \n",
      " 56  ThreeorMoreConfirmedandSuspectedCOVID-19CasesThisWeek              103811 non-null  object \n",
      " 57  InitialConfirmedCOVID-19CaseThisWeek                               103810 non-null  object \n",
      " 58  Geolocation                                                        116610 non-null  object \n",
      "dtypes: float64(23), object(36)\n",
      "memory usage: 55.4+ MB\n"
     ]
    }
   ],
   "source": [
    "# Show updated dtype of the dataset\n",
    "df_covid19.info()"
   ]
  },
  {
   "cell_type": "markdown",
   "metadata": {},
   "source": [
    "### Part 4: Handling Missing Data and Erroneous Data"
   ]
  },
  {
   "cell_type": "markdown",
   "metadata": {},
   "source": [
    "#### 4.1 Remove records with very poor information."
   ]
  },
  {
   "cell_type": "code",
   "execution_count": 13,
   "metadata": {},
   "outputs": [],
   "source": [
    "# Remove rows that have too much missing value\n",
    "df_covid19 = df_covid19[df_covid19.isna().sum(axis=1) < 35]"
   ]
  },
  {
   "cell_type": "code",
   "execution_count": 14,
   "metadata": {
    "scrolled": true
   },
   "outputs": [
    {
     "data": {
      "text/plain": [
       "(119224, 59)"
      ]
     },
     "execution_count": 14,
     "metadata": {},
     "output_type": "execute_result"
    }
   ],
   "source": [
    "df_covid19.shape"
   ]
  },
  {
   "cell_type": "markdown",
   "metadata": {},
   "source": [
    "3,919 rows are removed due to lack of information."
   ]
  },
  {
   "cell_type": "markdown",
   "metadata": {},
   "source": [
    "#### 4.2 Removed erroneous data"
   ]
  },
  {
   "cell_type": "markdown",
   "metadata": {},
   "source": [
    "Data quality checks were performed by CMS to identify instances where facilities may have entered incorrect data, such as entering cumulative counts over time instead of new cases, and other data entry errors. In these cases, CMS marked as 0 in the column titled “Passed Quality Assurance Check” and suggests not to include these data in the analyses in order to preserve the accuracy of the data presented.\n",
    "\n",
    "For a detailed explanation of the CMS/CDC Nursing Home COVID-19 Data Quality Assurance Process, please click <a href=\"https://data.cms.gov/download/bqa5-3dzf/application%2Fpdf\" target=\"_blank\">here</a>."
   ]
  },
  {
   "cell_type": "code",
   "execution_count": 15,
   "metadata": {},
   "outputs": [],
   "source": [
    "to_drop=['0']\n",
    "\n",
    "# Drop rows that are mark as Not SubmittedData and those didn't pass Quality Assurance Check.\n",
    "\n",
    "df_covid19 = df_covid19[~df_covid19['PassedQualityAssuranceCheck'].isin(to_drop)]\n"
   ]
  },
  {
   "cell_type": "code",
   "execution_count": 16,
   "metadata": {},
   "outputs": [
    {
     "data": {
      "text/plain": [
       "1    114982\n",
       "Name: PassedQualityAssuranceCheck, dtype: int64"
      ]
     },
     "execution_count": 16,
     "metadata": {},
     "output_type": "execute_result"
    }
   ],
   "source": [
    "df_covid19.PassedQualityAssuranceCheck.value_counts()\n"
   ]
  },
  {
   "cell_type": "code",
   "execution_count": 17,
   "metadata": {},
   "outputs": [
    {
     "data": {
      "text/plain": [
       "1    114982\n",
       "0      1126\n",
       "Name: SubmittedData, dtype: int64"
      ]
     },
     "execution_count": 17,
     "metadata": {},
     "output_type": "execute_result"
    }
   ],
   "source": [
    "df_covid19.SubmittedData.value_counts()\n"
   ]
  },
  {
   "cell_type": "markdown",
   "metadata": {},
   "source": [
    "Since both columns have only one value, we remove them."
   ]
  },
  {
   "cell_type": "code",
   "execution_count": 18,
   "metadata": {},
   "outputs": [],
   "source": [
    "# Drop SubmittedData and PassedQualityAssuranceCheck columns\n",
    "df_covid19.drop(['SubmittedData', 'PassedQualityAssuranceCheck'], axis = 1, inplace = True)"
   ]
  },
  {
   "cell_type": "code",
   "execution_count": 19,
   "metadata": {},
   "outputs": [
    {
     "data": {
      "text/plain": [
       "(116108, 57)"
      ]
     },
     "execution_count": 19,
     "metadata": {},
     "output_type": "execute_result"
    }
   ],
   "source": [
    "df_covid19.shape\n"
   ]
  },
  {
   "cell_type": "markdown",
   "metadata": {},
   "source": [
    "#### 4.3 Remove columns with too many null value"
   ]
  },
  {
   "cell_type": "code",
   "execution_count": 20,
   "metadata": {},
   "outputs": [
    {
     "name": "stdout",
     "output_type": "stream",
     "text": [
      "> Column 0, Missing: 0 (0.0%)\n",
      "> Column 1, Missing: 0 (0.0%)\n",
      "> Column 2, Missing: 0 (0.0%)\n",
      "> Column 3, Missing: 0 (0.0%)\n",
      "> Column 4, Missing: 0 (0.0%)\n",
      "> Column 5, Missing: 0 (0.0%)\n",
      "> Column 6, Missing: 0 (0.0%)\n",
      "> Column 7, Missing: 0 (0.0%)\n",
      "> Column 8, Missing: 0 (0.0%)\n",
      "> Column 9, Missing: 0 (0.0%)\n",
      "> Column 10, Missing: 0 (0.0%)\n",
      "> Column 11, Missing: 0 (0.0%)\n",
      "> Column 12, Missing: 0 (0.0%)\n",
      "> Column 13, Missing: 0 (0.0%)\n",
      "> Column 14, Missing: 0 (0.0%)\n",
      "> Column 15, Missing: 0 (0.0%)\n",
      "> Column 16, Missing: 0 (0.0%)\n",
      "> Column 17, Missing: 1207 (1.0%)\n",
      "> Column 18, Missing: 250 (0.2%)\n",
      "> Column 19, Missing: 1141 (1.0%)\n",
      "> Column 20, Missing: 1141 (1.0%)\n",
      "> Column 21, Missing: 1141 (1.0%)\n",
      "> Column 22, Missing: 1141 (1.0%)\n",
      "> Column 23, Missing: 0 (0.0%)\n",
      "> Column 24, Missing: 0 (0.0%)\n",
      "> Column 25, Missing: 0 (0.0%)\n",
      "> Column 26, Missing: 0 (0.0%)\n",
      "> Column 27, Missing: 0 (0.0%)\n",
      "> Column 28, Missing: 0 (0.0%)\n",
      "> Column 29, Missing: 1561 (1.3%)\n",
      "> Column 30, Missing: 1563 (1.3%)\n",
      "> Column 31, Missing: 1560 (1.3%)\n",
      "> Column 32, Missing: 1563 (1.3%)\n",
      "> Column 33, Missing: 1650 (1.4%)\n",
      "> Column 34, Missing: 1651 (1.4%)\n",
      "> Column 35, Missing: 1651 (1.4%)\n",
      "> Column 36, Missing: 1651 (1.4%)\n",
      "> Column 37, Missing: 1651 (1.4%)\n",
      "> Column 38, Missing: 1651 (1.4%)\n",
      "> Column 39, Missing: 1651 (1.4%)\n",
      "> Column 40, Missing: 1652 (1.4%)\n",
      "> Column 41, Missing: 1653 (1.4%)\n",
      "> Column 42, Missing: 1651 (1.4%)\n",
      "> Column 43, Missing: 1654 (1.4%)\n",
      "> Column 44, Missing: 1658 (1.4%)\n",
      "> Column 45, Missing: 3577 (3.1%)\n",
      "> Column 46, Missing: 111843 (96.3%)\n",
      "> Column 47, Missing: 111847 (96.3%)\n",
      "> Column 48, Missing: 111844 (96.3%)\n",
      "> Column 49, Missing: 111842 (96.3%)\n",
      "> Column 50, Missing: 595 (0.5%)\n",
      "> Column 51, Missing: 595 (0.5%)\n",
      "> Column 52, Missing: 75491 (65.0%)\n",
      "> Column 53, Missing: 0 (0.0%)\n",
      "> Column 54, Missing: 14763 (12.7%)\n",
      "> Column 55, Missing: 14764 (12.7%)\n",
      "> Column 56, Missing: 6177 (5.3%)\n"
     ]
    }
   ],
   "source": [
    "# Check the percentage of null value of each column\n",
    "for i in range(df_covid19.shape[1]):\n",
    "    # count number of rows with missing values\n",
    "    n_miss = df_covid19.iloc[:, i].isnull().sum()\n",
    "    perc = n_miss / df_covid19.shape[0] * 100\n",
    "    #print('> %s, Missing: %d (%.1f%%)' % (df_covid19.columns[i], n_miss, perc))\n",
    "    print('> Column %d, Missing: %d (%.1f%%)' % (i, n_miss, perc))"
   ]
  },
  {
   "cell_type": "markdown",
   "metadata": {},
   "source": [
    "More than 2/3 of column 46, 47, 48, 49 and 52 are null value, so we remove these columns."
   ]
  },
  {
   "cell_type": "code",
   "execution_count": 21,
   "metadata": {},
   "outputs": [],
   "source": [
    "df_covid19.drop([\"NumberofVentilatorsinFacility\", \"NumberofVentilatorsinUseforCOVID-19\", \"AnyCurrentSupplyofVentilatorSupplies\", \"One-WeekSupplyofVentilatorSupplies\", \"TotalResidentsCOVID-19DeathsasaPercentageofConfirmedCOVID-19Cases\"], axis = 1, inplace = True)"
   ]
  },
  {
   "cell_type": "code",
   "execution_count": 22,
   "metadata": {},
   "outputs": [
    {
     "data": {
      "text/plain": [
       "(116108, 52)"
      ]
     },
     "execution_count": 22,
     "metadata": {},
     "output_type": "execute_result"
    }
   ],
   "source": [
    "df_covid19.shape\n"
   ]
  },
  {
   "cell_type": "markdown",
   "metadata": {},
   "source": [
    "### Part 5: Outlier"
   ]
  },
  {
   "cell_type": "code",
   "execution_count": 24,
   "metadata": {},
   "outputs": [
    {
     "data": {
      "text/plain": [
       "<matplotlib.axes._subplots.AxesSubplot at 0x1a1e367810>"
      ]
     },
     "execution_count": 24,
     "metadata": {},
     "output_type": "execute_result"
    },
    {
     "data": {
      "image/png": "[encoded data removed]",
      "text/plain": [
       "<Figure size 432x288 with 1 Axes>"
      ]
     },
     "metadata": {},
     "output_type": "display_data"
    }
   ],
   "source": [
    "sns.boxplot(x=df_covid19['NumberofAllBeds'])"
   ]
  },
  {
   "cell_type": "markdown",
   "metadata": {},
   "source": [
    "The capacity (e.g. number of beds) of nursing homes are different from one another. The above data set, the outliers included, does not indicate any unreasonable number of beds (i.e., all seem legitimate). Therefore, we don't eliminate the outliers in this case."
   ]
  },
  {
   "cell_type": "code",
   "execution_count": 24,
   "metadata": {},
   "outputs": [
    {
     "data": {
      "text/plain": [
       "<matplotlib.axes._subplots.AxesSubplot at 0x2145ce51dc8>"
      ]
     },
     "execution_count": 24,
     "metadata": {},
     "output_type": "execute_result"
    },
    {
     "data": {
      "image/png": "[encoded data removed]",
      "text/plain": [
       "<Figure size 432x288 with 1 Axes>"
      ]
     },
     "metadata": {},
     "output_type": "display_data"
    }
   ],
   "source": [
    "sns.boxplot(x=df_covid19['TotalNumberofOccupiedBeds'])"
   ]
  },
  {
   "cell_type": "code",
   "execution_count": 25,
   "metadata": {},
   "outputs": [
    {
     "data": {
      "text/plain": [
       "815.0"
      ]
     },
     "execution_count": 25,
     "metadata": {},
     "output_type": "execute_result"
    }
   ],
   "source": [
    "df_covid19['NumberofAllBeds'].max()"
   ]
  },
  {
   "cell_type": "code",
   "execution_count": 26,
   "metadata": {},
   "outputs": [
    {
     "data": {
      "text/plain": [
       "1274.0"
      ]
     },
     "execution_count": 26,
     "metadata": {},
     "output_type": "execute_result"
    }
   ],
   "source": [
    "df_covid19['TotalNumberofOccupiedBeds'].max()"
   ]
  },
  {
   "cell_type": "markdown",
   "metadata": {},
   "source": [
    "Given that the maximum capacity of all nursing homes in the dataset is 815, it is impossible for the number of occupied beds of any nursing home in the dataset to exceed 815. Therefore, we cap the number of occupied beds at a given nursing home at the capacity of that nursing home, i.e., 100% occupancy."
   ]
  },
  {
   "cell_type": "code",
   "execution_count": 27,
   "metadata": {},
   "outputs": [],
   "source": [
    "# If NumOccupiedBed Exceed max of Total#ofBeds, set it to its corresponding total#ofBeds\n",
    "df_covid19.loc[df_covid19['TotalNumberofOccupiedBeds'] > df_covid19['NumberofAllBeds'], 'TotalNumberofOccupiedBeds'] = df_covid19['NumberofAllBeds']"
   ]
  },
  {
   "cell_type": "code",
   "execution_count": 28,
   "metadata": {},
   "outputs": [
    {
     "data": {
      "text/plain": [
       "733.0"
      ]
     },
     "execution_count": 28,
     "metadata": {},
     "output_type": "execute_result"
    }
   ],
   "source": [
    "df_covid19['TotalNumberofOccupiedBeds'].max()"
   ]
  },
  {
   "cell_type": "code",
   "execution_count": 29,
   "metadata": {},
   "outputs": [
    {
     "data": {
      "text/plain": [
       "<matplotlib.axes._subplots.AxesSubplot at 0x1a1e5e1b50>"
      ]
     },
     "execution_count": 29,
     "metadata": {},
     "output_type": "execute_result"
    },
    {
     "data": {
      "image/png": "[encoded data removed]",
      "text/plain": [
       "<Figure size 432x288 with 1 Axes>"
      ]
     },
     "metadata": {},
     "output_type": "display_data"
    }
   ],
   "source": [
    "sns.boxplot(x=df_covid19['TotalResidentCOVID-19DeathsPer1,000Residents'])\n",
    "# 52 records > 1000"
   ]
  },
  {
   "cell_type": "markdown",
   "metadata": {},
   "source": [
    "Clearly the number of death per 1000 residents should not exceed 1000. The above boxplot shows that there are scores of data points demonstrating the contrary. Therefore, we remove these points."
   ]
  },
  {
   "cell_type": "code",
   "execution_count": 30,
   "metadata": {},
   "outputs": [],
   "source": [
    "#remove records that don't make sense\n",
    "\n",
    "df_covid19.drop(df_covid19[df_covid19['TotalResidentCOVID-19DeathsPer1,000Residents'] > 1000].index, inplace=True)"
   ]
  },
  {
   "cell_type": "code",
   "execution_count": 31,
   "metadata": {},
   "outputs": [
    {
     "data": {
      "text/plain": [
       "(116065, 52)"
      ]
     },
     "execution_count": 31,
     "metadata": {},
     "output_type": "execute_result"
    }
   ],
   "source": [
    "df_covid19.shape"
   ]
  },
  {
   "cell_type": "code",
   "execution_count": 32,
   "metadata": {},
   "outputs": [
    {
     "data": {
      "text/plain": [
       "<matplotlib.axes._subplots.AxesSubplot at 0x1a1eaf0190>"
      ]
     },
     "execution_count": 32,
     "metadata": {},
     "output_type": "execute_result"
    },
    {
     "data": {
      "image/png": "[encoded data removed]",
      "text/plain": [
       "<Figure size 432x288 with 1 Axes>"
      ]
     },
     "metadata": {},
     "output_type": "display_data"
    }
   ],
   "source": [
    "sns.boxplot(x=df_covid19['TotalResidentConfirmedCOVID-19CasesPer1,000Residents'])\n",
    "##1563 records > 1000"
   ]
  },
  {
   "cell_type": "markdown",
   "metadata": {},
   "source": [
    "Same reason as above, we remove those data points exceed 1000."
   ]
  },
  {
   "cell_type": "code",
   "execution_count": 33,
   "metadata": {},
   "outputs": [],
   "source": [
    "df_covid19.drop(df_covid19[df_covid19['TotalResidentConfirmedCOVID-19CasesPer1,000Residents'] > 1000].index, inplace=True)"
   ]
  },
  {
   "cell_type": "code",
   "execution_count": 34,
   "metadata": {},
   "outputs": [
    {
     "data": {
      "text/plain": [
       "(114523, 52)"
      ]
     },
     "execution_count": 34,
     "metadata": {},
     "output_type": "execute_result"
    }
   ],
   "source": [
    "df_covid19.shape"
   ]
  },
  {
   "cell_type": "markdown",
   "metadata": {},
   "source": [
    "### Part 6: Imputation\n"
   ]
  },
  {
   "cell_type": "code",
   "execution_count": 35,
   "metadata": {},
   "outputs": [
    {
     "data": {
      "text/plain": [
       "InitialConfirmedCOVID-19CaseThisWeek                     14671\n",
       "ThreeorMoreConfirmedandSuspectedCOVID-19CasesThisWeek    14670\n",
       "Geolocation                                               6105\n",
       "VentilatorDependentUnit                                   3529\n",
       "One-WeekSupplyofHandSanitizer                             1642\n",
       "dtype: int64"
      ]
     },
     "execution_count": 35,
     "metadata": {},
     "output_type": "execute_result"
    }
   ],
   "source": [
    "df_covid19.isnull().sum().sort_values(ascending=False).head()"
   ]
  },
  {
   "cell_type": "code",
   "execution_count": 36,
   "metadata": {},
   "outputs": [],
   "source": [
    "for col_name in df_covid19.columns:\n",
    "    if df_covid19[col_name].dtypes == 'object':\n",
    "        #print (\"The mode of '{col_name}': '{mode}'\".format(col_name=col_name, mode=df_covid19[col_name].mode().iloc[0]))\n",
    "        df_covid19[col_name] = df_covid19[col_name].fillna(df_covid19[col_name].mode().iloc[0])\n",
    "    else:\n",
    "        #print (\"The mean of '{col_name}': '{mean}'\".format(col_name=col_name, mean=df_covid19[col_name].mean()))\n",
    "        df_covid19[col_name] = df_covid19[col_name].fillna(df_covid19[col_name].mean())"
   ]
  },
  {
   "cell_type": "code",
   "execution_count": 37,
   "metadata": {},
   "outputs": [
    {
     "data": {
      "text/plain": [
       "Geolocation                             0\n",
       "InitialConfirmedCOVID-19CaseThisWeek    0\n",
       "StaffWeeklyConfirmedCOVID-19            0\n",
       "LaboratoryTypeIsOther                   0\n",
       "LaboratoryTypeIsPrivateLab              0\n",
       "dtype: int64"
      ]
     },
     "execution_count": 37,
     "metadata": {},
     "output_type": "execute_result"
    }
   ],
   "source": [
    "df_covid19.isnull().sum().sort_values(ascending=False).head()"
   ]
  },
  {
   "cell_type": "code",
   "execution_count": 38,
   "metadata": {},
   "outputs": [],
   "source": [
    "df_covid19.to_csv('cleaned.csv')"
   ]
  },
  {
   "cell_type": "markdown",
   "metadata": {},
   "source": [
    "### Part 7: Normalize and Scale Data"
   ]
  },
  {
   "cell_type": "code",
   "execution_count": 39,
   "metadata": {},
   "outputs": [
    {
     "name": "stdout",
     "output_type": "stream",
     "text": [
      "ProviderZipCode                                         7.149574e+08\n",
      "ResidentsWeeklyAdmissionsCOVID-19                       5.732423e+00\n",
      "ResidentsTotalAdmissionsCOVID-19                        7.886662e+01\n",
      "ResidentsWeeklyConfirmedCOVID-19                        2.788683e+01\n",
      "ResidentsTotalConfirmedCOVID-19                         2.925119e+02\n",
      "ResidentsWeeklySuspectedCOVID-19                        1.371986e+01\n",
      "ResidentsTotalSuspectedCOVID-19                         1.861854e+02\n",
      "ResidentsWeeklyAllDeaths                                1.467509e+01\n",
      "ResidentsTotalAllDeaths                                 1.964439e+02\n",
      "ResidentsWeeklyCOVID-19Deaths                           2.852646e+00\n",
      "ResidentsTotalCOVID-19Deaths                            3.492459e+01\n",
      "NumberofAllBeds                                         3.410850e+03\n",
      "TotalNumberofOccupiedBeds                               2.068689e+03\n",
      "StaffWeeklyConfirmedCOVID-19                            9.817778e+00\n",
      "StaffTotalConfirmedCOVID-19                             1.129568e+02\n",
      "StaffWeeklySuspectedCOVID-19                            1.397138e+02\n",
      "StaffTotalSuspectedCOVID-19                             1.229430e+03\n",
      "StaffWeeklyCOVID-19Deaths                               1.544647e-02\n",
      "StaffTotalCOVID-19Deaths                                1.181287e-01\n",
      "TotalResidentConfirmedCOVID-19CasesPer1,000Residents    3.338628e+04\n",
      "TotalResidentCOVID-19DeathsPer1,000Residents            4.186981e+03\n",
      "dtype: float64\n"
     ]
    }
   ],
   "source": [
    "#print out the varainces \n",
    "print(df_covid19.var())"
   ]
  },
  {
   "cell_type": "code",
   "execution_count": 40,
   "metadata": {},
   "outputs": [],
   "source": [
    "# #Normalize data using log normalization\n",
    "# df_covid19[\"ProviderZipCode_log\"] = np.log(df_covid19[\"ProviderZipCode\"])\n",
    "# df_covid19[\"ResidentsWeeklyAdmissionsCOVID-19_log\"] = np.log(df_covid19[\"ResidentsWeeklyAdmissionsCOVID-19\"])\n",
    "# df_covid19[\"ResidentsTotalAdmissionsCOVID-19_log\"] = np.log(df_covid19[\"ResidentsTotalAdmissionsCOVID-19\"])\n",
    "# df_covid19[\"ResidentsWeeklyConfirmedCOVID-19_log\"] = np.log(df_covid19[\"ResidentsWeeklyConfirmedCOVID-19\"])\n",
    "# df_covid19[\"ResidentsTotalConfirmedCOVID-19_log\"] = np.log(df_covid19[\"ResidentsTotalConfirmedCOVID-19\"])\n",
    "# df_covid19[\"ResidentsWeeklySuspectedCOVID-19_log\"] = np.log(df_covid19[\"ResidentsWeeklySuspectedCOVID-19\"])\n",
    "# df_covid19[\"ResidentsTotalSuspectedCOVID-19_log\"] = np.log(df_covid19[\"ResidentsTotalSuspectedCOVID-19\"])\n",
    "# df_covid19[\"ResidentsWeeklyAllDeaths_log\"] = np.log(df_covid19[\"ResidentsWeeklyAllDeaths\"])\n",
    "# df_covid19[\"ResidentsWeeklyCOVID-19Deaths_log\"] = np.log(df_covid19[\"ResidentsWeeklyCOVID-19Deaths\"])\n",
    "# df_covid19[\"ResidentsTotalAllDeaths_log\"] = np.log(df_covid19[\"ResidentsTotalAllDeaths\"])\n",
    "# df_covid19[\"ResidentsTotalCOVID-19Deaths_log\"] = np.log(df_covid19[\"ResidentsTotalCOVID-19Deaths\"])\n",
    "# df_covid19[\"NumberofAllBeds_log\"] = np.log(df_covid19[\"NumberofAllBeds\"])\n",
    "# df_covid19[\"TotalNumberofOccupiedBeds_log\"] = np.log(df_covid19[\"TotalNumberofOccupiedBeds\"])\n",
    "# df_covid19[\"StaffWeeklyConfirmedCOVID-19_log\"] = np.log(df_covid19[\"StaffWeeklyConfirmedCOVID-19\"])\n",
    "# df_covid19[\"StaffTotalConfirmedCOVID-19_log\"] = np.log(df_covid19[\"StaffTotalConfirmedCOVID-19\"])\n",
    "# df_covid19[\"StaffWeeklySuspectedCOVID-19_log\"] = np.log(df_covid19[\"StaffWeeklySuspectedCOVID-19\"])\n",
    "# df_covid19[\"StaffTotalSuspectedCOVID-19_log\"] = np.log(df_covid19[\"StaffTotalSuspectedCOVID-19\"])\n",
    "# df_covid19[\"TotalResidentConfirmedCOVID-19CasesPer1,000Residents_log\"] = np.log(df_covid19[\"TotalResidentConfirmedCOVID-19CasesPer1,000Residents\"])\n",
    "# df_covid19[\"TotalResidentCOVID-19DeathsPer1,000Residents_log\"] = np.log(df_covid19[\"TotalResidentCOVID-19DeathsPer1,000Residents\"])\n",
    "\n",
    "# #print new variances\n",
    "# print(df_covid19[\"ProviderZipCode_log\"].var())\n",
    "# print(df_covid19[\"ResidentsWeeklyAdmissionsCOVID-19_log\"].var())\n",
    "# print(df_covid19[\"ResidentsTotalAdmissionsCOVID-19_log\"].var())\n",
    "# print(df_covid19[\"ResidentsWeeklyConfirmedCOVID-19_log\"].var()) \n",
    "# print(df_covid19[\"ResidentsTotalConfirmedCOVID-19_log\"].var()) \n",
    "# print(df_covid19[\"ResidentsWeeklySuspectedCOVID-19_log\"].var()) \n",
    "# print(df_covid19[\"ResidentsTotalSuspectedCOVID-19_log\"].var()) \n",
    "# print(df_covid19[\"ResidentsWeeklyAllDeaths_log\"].var())\n",
    "# print(df_covid19[\"ResidentsWeeklyCOVID-19Deaths_log\"].var())\n",
    "# print(df_covid19[\"ResidentsTotalAllDeaths_log\"].var()) \n",
    "# print(df_covid19[\"ResidentsTotalCOVID-19Deaths_log\"].var())\n",
    "# print(df_covid19[\"NumberofAllBeds_log\"].var())\n",
    "# print(df_covid19[\"TotalNumberofOccupiedBeds_log\"].var()) \n",
    "# print(df_covid19[\"StaffWeeklyConfirmedCOVID-19_log\"].var())\n",
    "# print(df_covid19[\"StaffTotalConfirmedCOVID-19_log\"].var())\n",
    "# print(df_covid19[\"StaffWeeklySuspectedCOVID-19_log\"].var()) \n",
    "# print(df_covid19[\"StaffTotalSuspectedCOVID-19_log\"].var()) \n",
    "# print(df_covid19[\"TotalResidentConfirmedCOVID-19CasesPer1,000Residents_log\"].var()) \n",
    "# print(df_covid19[\"TotalResidentCOVID-19DeathsPer1,000Residents_log\"].var()) "
   ]
  },
  {
   "cell_type": "code",
   "execution_count": 41,
   "metadata": {},
   "outputs": [],
   "source": [
    "# #Scale the data\n",
    "# from sklearn.preprocessing import StandardScaler\n",
    "\n",
    "# scaler = StandardScaler()\n",
    "# df_scaled = df_covid19[['ProviderZipCode','ResidentsTotalAdmissionsCOVID-19','ResidentsTotalAdmissionsCOVID-19','ResidentsWeeklyConfirmedCOVID-19','ResidentsTotalConfirmedCOVID-19','ResidentsWeeklySuspectedCOVID-19','ResidentsTotalSuspectedCOVID-19','ResidentsWeeklyAllDeaths','ResidentsWeeklyCOVID-19Deaths','ResidentsTotalAllDeaths','ResidentsTotalCOVID-19Deaths','TotalNumberofOccupiedBeds','NumberofAllBeds','StaffWeeklyConfirmedCOVID-19','StaffTotalConfirmedCOVID-19','StaffWeeklySuspectedCOVID-19','StaffTotalSuspectedCOVID-19','TotalResidentConfirmedCOVID-19CasesPer1,000Residents','TotalResidentCOVID-19DeathsPer1,000Residents']]\n",
    "# subset_scaled = scaler.fit_transform(df_scaled)\n",
    "\n",
    "# print(df_scaled.var())"
   ]
  },
  {
   "cell_type": "code",
   "execution_count": 42,
   "metadata": {},
   "outputs": [
    {
     "name": "stderr",
     "output_type": "stream",
     "text": [
      "/Users/sabdakarkera/opt/anaconda3/lib/python3.7/site-packages/ipykernel_launcher.py:7: RuntimeWarning: invalid value encountered in greater_equal\n",
      "  import sys\n"
     ]
    },
    {
     "data": {
      "text/html": [
       "<div>\n",
       "<style scoped>\n",
       "    .dataframe tbody tr th:only-of-type {\n",
       "        vertical-align: middle;\n",
       "    }\n",
       "\n",
       "    .dataframe tbody tr th {\n",
       "        vertical-align: top;\n",
       "    }\n",
       "\n",
       "    .dataframe thead th {\n",
       "        text-align: right;\n",
       "    }\n",
       "</style>\n",
       "<table border=\"1\" class=\"dataframe\">\n",
       "  <thead>\n",
       "    <tr style=\"text-align: right;\">\n",
       "      <th></th>\n",
       "      <th>WeekEnding</th>\n",
       "      <th>FederalProviderNumber</th>\n",
       "      <th>ProviderName</th>\n",
       "      <th>ProviderAddress</th>\n",
       "      <th>ProviderCity</th>\n",
       "      <th>ProviderState</th>\n",
       "      <th>ProviderZipCode</th>\n",
       "      <th>ResidentsWeeklyAdmissionsCOVID-19</th>\n",
       "      <th>ResidentsTotalAdmissionsCOVID-19</th>\n",
       "      <th>ResidentsWeeklyConfirmedCOVID-19</th>\n",
       "      <th>...</th>\n",
       "      <th>AnyCurrentSupplyofHandSanitizer</th>\n",
       "      <th>One-WeekSupplyofHandSanitizer</th>\n",
       "      <th>VentilatorDependentUnit</th>\n",
       "      <th>TotalResidentConfirmedCOVID-19CasesPer1,000Residents</th>\n",
       "      <th>TotalResidentCOVID-19DeathsPer1,000Residents</th>\n",
       "      <th>County</th>\n",
       "      <th>ThreeorMoreConfirmedandSuspectedCOVID-19CasesThisWeek</th>\n",
       "      <th>InitialConfirmedCOVID-19CaseThisWeek</th>\n",
       "      <th>Geolocation</th>\n",
       "      <th>CovidtoOccupancyRatio</th>\n",
       "    </tr>\n",
       "  </thead>\n",
       "  <tbody>\n",
       "    <tr>\n",
       "      <th>0</th>\n",
       "      <td>07/12/2020</td>\n",
       "      <td>215195</td>\n",
       "      <td>AUTUMN LAKE HEALTHCARE AT BRIDGEPARK</td>\n",
       "      <td>4017 LIBERTY HEIGHTS AVE.</td>\n",
       "      <td>BALTIMORE</td>\n",
       "      <td>MD</td>\n",
       "      <td>21207</td>\n",
       "      <td>0.0</td>\n",
       "      <td>4.0</td>\n",
       "      <td>0.0</td>\n",
       "      <td>...</td>\n",
       "      <td>1</td>\n",
       "      <td>1</td>\n",
       "      <td>1</td>\n",
       "      <td>756.4</td>\n",
       "      <td>89.7</td>\n",
       "      <td>Baltimore City</td>\n",
       "      <td>0</td>\n",
       "      <td>0</td>\n",
       "      <td>POINT (-76.687185 39.328731)</td>\n",
       "      <td>0.000000</td>\n",
       "    </tr>\n",
       "    <tr>\n",
       "      <th>1</th>\n",
       "      <td>06/07/2020</td>\n",
       "      <td>225260</td>\n",
       "      <td>BLAIRE HOUSE OF MILFORD</td>\n",
       "      <td>20 CLAFLIN STREET</td>\n",
       "      <td>MILFORD</td>\n",
       "      <td>MA</td>\n",
       "      <td>1757</td>\n",
       "      <td>2.0</td>\n",
       "      <td>8.0</td>\n",
       "      <td>0.0</td>\n",
       "      <td>...</td>\n",
       "      <td>1</td>\n",
       "      <td>1</td>\n",
       "      <td>0</td>\n",
       "      <td>97.6</td>\n",
       "      <td>146.3</td>\n",
       "      <td>Worcester</td>\n",
       "      <td>0</td>\n",
       "      <td>0</td>\n",
       "      <td>POINT (-71.517285 42.137664)</td>\n",
       "      <td>0.000000</td>\n",
       "    </tr>\n",
       "    <tr>\n",
       "      <th>2</th>\n",
       "      <td>05/24/2020</td>\n",
       "      <td>215044</td>\n",
       "      <td>ST. ELIZABETH REHAB. &amp; NSG. CE</td>\n",
       "      <td>3320 BENSON AVENUE</td>\n",
       "      <td>BALTIMORE</td>\n",
       "      <td>MD</td>\n",
       "      <td>21227</td>\n",
       "      <td>3.0</td>\n",
       "      <td>3.0</td>\n",
       "      <td>8.0</td>\n",
       "      <td>...</td>\n",
       "      <td>1</td>\n",
       "      <td>1</td>\n",
       "      <td>0</td>\n",
       "      <td>59.7</td>\n",
       "      <td>14.9</td>\n",
       "      <td>Baltimore City</td>\n",
       "      <td>0</td>\n",
       "      <td>0</td>\n",
       "      <td>POINT (-76.669529 39.268871)</td>\n",
       "      <td>0.059701</td>\n",
       "    </tr>\n",
       "    <tr>\n",
       "      <th>3</th>\n",
       "      <td>07/12/2020</td>\n",
       "      <td>165255</td>\n",
       "      <td>CARLISLE CENTER FOR WELLNESS AND REHAB</td>\n",
       "      <td>680 COLE STREET</td>\n",
       "      <td>CARLISLE</td>\n",
       "      <td>IA</td>\n",
       "      <td>50047</td>\n",
       "      <td>0.0</td>\n",
       "      <td>0.0</td>\n",
       "      <td>0.0</td>\n",
       "      <td>...</td>\n",
       "      <td>1</td>\n",
       "      <td>1</td>\n",
       "      <td>0</td>\n",
       "      <td>0.0</td>\n",
       "      <td>0.0</td>\n",
       "      <td>Warren</td>\n",
       "      <td>0</td>\n",
       "      <td>0</td>\n",
       "      <td>POINT (-93.493113 41.495666)</td>\n",
       "      <td>0.000000</td>\n",
       "    </tr>\n",
       "    <tr>\n",
       "      <th>4</th>\n",
       "      <td>05/31/2020</td>\n",
       "      <td>185222</td>\n",
       "      <td>GOOD SHEPHERD HEALTH AND REHABILITATION</td>\n",
       "      <td>60 PHILLIPS BRANCH ROAD</td>\n",
       "      <td>PHELPS</td>\n",
       "      <td>KY</td>\n",
       "      <td>41553</td>\n",
       "      <td>0.0</td>\n",
       "      <td>0.0</td>\n",
       "      <td>0.0</td>\n",
       "      <td>...</td>\n",
       "      <td>1</td>\n",
       "      <td>1</td>\n",
       "      <td>0</td>\n",
       "      <td>0.0</td>\n",
       "      <td>0.0</td>\n",
       "      <td>Pike</td>\n",
       "      <td>0</td>\n",
       "      <td>0</td>\n",
       "      <td>POINT (-82.137144 37.495937)</td>\n",
       "      <td>0.000000</td>\n",
       "    </tr>\n",
       "  </tbody>\n",
       "</table>\n",
       "<p>5 rows × 53 columns</p>\n",
       "</div>"
      ],
      "text/plain": [
       "   WeekEnding FederalProviderNumber                             ProviderName  \\\n",
       "0  07/12/2020                215195     AUTUMN LAKE HEALTHCARE AT BRIDGEPARK   \n",
       "1  06/07/2020                225260                  BLAIRE HOUSE OF MILFORD   \n",
       "2  05/24/2020                215044           ST. ELIZABETH REHAB. & NSG. CE   \n",
       "3  07/12/2020                165255   CARLISLE CENTER FOR WELLNESS AND REHAB   \n",
       "4  05/31/2020                185222  GOOD SHEPHERD HEALTH AND REHABILITATION   \n",
       "\n",
       "             ProviderAddress ProviderCity ProviderState  ProviderZipCode  \\\n",
       "0  4017 LIBERTY HEIGHTS AVE.    BALTIMORE            MD            21207   \n",
       "1          20 CLAFLIN STREET      MILFORD            MA             1757   \n",
       "2         3320 BENSON AVENUE    BALTIMORE            MD            21227   \n",
       "3            680 COLE STREET     CARLISLE            IA            50047   \n",
       "4    60 PHILLIPS BRANCH ROAD       PHELPS            KY            41553   \n",
       "\n",
       "   ResidentsWeeklyAdmissionsCOVID-19  ResidentsTotalAdmissionsCOVID-19  \\\n",
       "0                                0.0                               4.0   \n",
       "1                                2.0                               8.0   \n",
       "2                                3.0                               3.0   \n",
       "3                                0.0                               0.0   \n",
       "4                                0.0                               0.0   \n",
       "\n",
       "   ResidentsWeeklyConfirmedCOVID-19  ...  AnyCurrentSupplyofHandSanitizer  \\\n",
       "0                               0.0  ...                                1   \n",
       "1                               0.0  ...                                1   \n",
       "2                               8.0  ...                                1   \n",
       "3                               0.0  ...                                1   \n",
       "4                               0.0  ...                                1   \n",
       "\n",
       "   One-WeekSupplyofHandSanitizer  VentilatorDependentUnit  \\\n",
       "0                              1                        1   \n",
       "1                              1                        0   \n",
       "2                              1                        0   \n",
       "3                              1                        0   \n",
       "4                              1                        0   \n",
       "\n",
       "   TotalResidentConfirmedCOVID-19CasesPer1,000Residents  \\\n",
       "0                                              756.4      \n",
       "1                                               97.6      \n",
       "2                                               59.7      \n",
       "3                                                0.0      \n",
       "4                                                0.0      \n",
       "\n",
       "   TotalResidentCOVID-19DeathsPer1,000Residents          County  \\\n",
       "0                                          89.7  Baltimore City   \n",
       "1                                         146.3       Worcester   \n",
       "2                                          14.9  Baltimore City   \n",
       "3                                           0.0          Warren   \n",
       "4                                           0.0            Pike   \n",
       "\n",
       "   ThreeorMoreConfirmedandSuspectedCOVID-19CasesThisWeek  \\\n",
       "0                                                  0       \n",
       "1                                                  0       \n",
       "2                                                  0       \n",
       "3                                                  0       \n",
       "4                                                  0       \n",
       "\n",
       "   InitialConfirmedCOVID-19CaseThisWeek                   Geolocation  \\\n",
       "0                                     0  POINT (-76.687185 39.328731)   \n",
       "1                                     0  POINT (-71.517285 42.137664)   \n",
       "2                                     0  POINT (-76.669529 39.268871)   \n",
       "3                                     0  POINT (-93.493113 41.495666)   \n",
       "4                                     0  POINT (-82.137144 37.495937)   \n",
       "\n",
       "  CovidtoOccupancyRatio  \n",
       "0              0.000000  \n",
       "1              0.000000  \n",
       "2              0.059701  \n",
       "3              0.000000  \n",
       "4              0.000000  \n",
       "\n",
       "[5 rows x 53 columns]"
      ]
     },
     "execution_count": 42,
     "metadata": {},
     "output_type": "execute_result"
    }
   ],
   "source": [
    "#Create a new variable: OccupancyRatio\n",
    "\n",
    "#df_covid19= pd.DataFrame(df_covid19)\n",
    "df_covid19['CovidtoOccupancyRatio']=df_covid19['ResidentsWeeklyConfirmedCOVID-19']/df_covid19['TotalNumberofOccupiedBeds']\n",
    "\n",
    "df_covid19.replace([np.inf, -np.inf], np.nan, inplace=True)\n",
    "df_covid19.replace(np.where(df_covid19['CovidtoOccupancyRatio'].values >= np.finfo(np.float64).max), np.nan, inplace=True)\n",
    "df_covid19 = df_covid19[df_covid19['CovidtoOccupancyRatio'].notna()]\n",
    "\n",
    "\n",
    "#df_covid19 = df_covid19[df_covid19['CovidtoOccupancyRatio'].notna()]\n",
    "#df_covid19 = df_covid19.drop(df_covid19[np.where(df_covid19['CovidtoOccupancyRatio'].values >= np.finfo(np.float64).max)].index, axis=0, inplace=True)\n",
    "#df_covid19 = df_covid19[np.where(df_covid19['CovidtoOccupancyRatio'].values < np.finfo(np.float64).max)]\n",
    "df_covid19.head()\n"
   ]
  },
  {
   "cell_type": "code",
   "execution_count": 43,
   "metadata": {},
   "outputs": [
    {
     "data": {
      "text/plain": [
       "count    114059.000000\n",
       "mean          0.010907\n",
       "std           0.061609\n",
       "min           0.000000\n",
       "25%           0.000000\n",
       "50%           0.000000\n",
       "75%           0.000000\n",
       "max           1.000000\n",
       "Name: CovidtoOccupancyRatio, dtype: float64"
      ]
     },
     "execution_count": 43,
     "metadata": {},
     "output_type": "execute_result"
    }
   ],
   "source": [
    "# Look at statistical analysis of OccupancyRatio column\n",
    "df_covid19['CovidtoOccupancyRatio'].describe()"
   ]
  },
  {
   "cell_type": "code",
   "execution_count": 44,
   "metadata": {},
   "outputs": [],
   "source": [
    "# Create TotalConfirmedCovid19Ratio to see if this feature proves to be a better dependent variable for testing models\n",
    "df_covid19['TotalConfirmedCovid19Ratio']=(df_covid19['ResidentsTotalConfirmedCOVID-19']+df_covid19['StaffTotalConfirmedCOVID-19'])/df_covid19['NumberofAllBeds']\n",
    "#df_covid19 = df_covid19[df_covid19['CovidtoOccupancyRatio'].notna()]\n",
    "#df_covid19 = df_covid19.drop(df_covid19[np.where(df_covid19['CovidtoOccupancyRatio'].values >= np.finfo(np.float64).max)].index, axis=0, inplace=True)\n",
    "#df_covid19 = df_covid19[np.where(df_covid19['CovidtoOccupancyRatio'].values < np.finfo(np.float64).max)]\n"
   ]
  },
  {
   "cell_type": "code",
   "execution_count": 45,
   "metadata": {},
   "outputs": [
    {
     "data": {
      "text/plain": [
       "count    114059.000000\n",
       "mean          0.087394\n",
       "std           0.181319\n",
       "min           0.000000\n",
       "25%           0.000000\n",
       "50%           0.007937\n",
       "75%           0.066667\n",
       "max           4.000000\n",
       "Name: TotalConfirmedCovid19Ratio, dtype: float64"
      ]
     },
     "execution_count": 45,
     "metadata": {},
     "output_type": "execute_result"
    }
   ],
   "source": [
    "# Describe TotalConfirmedCovid19Ratio\n",
    "df_covid19['TotalConfirmedCovid19Ratio'].describe()"
   ]
  },
  {
   "cell_type": "code",
   "execution_count": 46,
   "metadata": {},
   "outputs": [
    {
     "data": {
      "text/plain": [
       "<matplotlib.axes._subplots.AxesSubplot at 0x1a1dca1b90>"
      ]
     },
     "execution_count": 46,
     "metadata": {},
     "output_type": "execute_result"
    },
    {
     "data": {
      "image/png": "[encoded data removed]",
      "text/plain": [
       "<Figure size 432x288 with 1 Axes>"
      ]
     },
     "metadata": {},
     "output_type": "display_data"
    }
   ],
   "source": [
    "# Further investigation of TotalConfirmedCovid19Ratio through boxplot\n",
    "sns.boxplot(x=df_covid19['TotalConfirmedCovid19Ratio'])"
   ]
  },
  {
   "cell_type": "code",
   "execution_count": 47,
   "metadata": {},
   "outputs": [],
   "source": [
    "# Drop outlier\n",
    "df_covid19.drop(df_covid19[df_covid19.TotalConfirmedCovid19Ratio > 3].index, inplace=True)"
   ]
  },
  {
   "cell_type": "code",
   "execution_count": 48,
   "metadata": {},
   "outputs": [
    {
     "data": {
      "text/plain": [
       "<matplotlib.axes._subplots.AxesSubplot at 0x108d88450>"
      ]
     },
     "execution_count": 48,
     "metadata": {},
     "output_type": "execute_result"
    },
    {
     "data": {
      "image/png": "[encoded data removed]",
      "text/plain": [
       "<Figure size 432x288 with 1 Axes>"
      ]
     },
     "metadata": {},
     "output_type": "display_data"
    }
   ],
   "source": [
    "# Check result\n",
    "sns.boxplot(x=df_covid19['TotalConfirmedCovid19Ratio'])"
   ]
  },
  {
   "cell_type": "code",
   "execution_count": 49,
   "metadata": {},
   "outputs": [
    {
     "data": {
      "text/plain": [
       "array([[-0.1770127151734526, '1', '1', ..., '1', '1', '1'],\n",
       "       [-0.1770127151734526, '0', '1', ..., '1', '1', '1'],\n",
       "       [0.7920486725994375, '1', '0', ..., '1', '1', '1'],\n",
       "       ...,\n",
       "       [-0.1770127151734526, '0', '1', ..., '1', '1', '1'],\n",
       "       [-0.1770127151734526, '0', '1', ..., '1', '1', '1'],\n",
       "       [-0.1770127151734526, '1', '1', ..., '1', '1', '1']], dtype=object)"
      ]
     },
     "execution_count": 49,
     "metadata": {},
     "output_type": "execute_result"
    }
   ],
   "source": [
    "# Apply transfomer to column\n",
    "from sklearn.compose import ColumnTransformer\n",
    "from sklearn.preprocessing import StandardScaler\n",
    "\n",
    "col_names = ['LaboratoryTypeIsStateHealthDept', 'LaboratoryTypeIsPrivateLab', 'LaboratoryTypeIsOther', 'ShortageofNursingStaff',\n",
    " 'ShortageofClinicalStaff',\n",
    " 'ShortageofAides',\n",
    " 'ShortageofOtherStaff',\n",
    " 'AnyCurrentSupplyofN95Masks',\n",
    " 'One-WeekSupplyofN95Masks',\n",
    " 'AnyCurrentSupplyofSurgicalMasks',\n",
    " 'One-WeekSupplyofSurgicalMasks',\n",
    " 'AnyCurrentSupplyofEyeProtection',\n",
    " 'One-WeekSupplyofEyeProtection',\n",
    " 'AnyCurrentSupplyofGowns',\n",
    " 'One-WeekSupplyofGowns',\n",
    " 'AnyCurrentSupplyofGloves',\n",
    " 'One-WeekSupplyofGloves',\n",
    " 'AnyCurrentSupplyofHandSanitizer',\n",
    " 'One-WeekSupplyofHandSanitizer','CovidtoOccupancyRatio']\n",
    "features = df_covid19[col_names]\n",
    "\n",
    "ct = ColumnTransformer([\n",
    "        ('scale', StandardScaler(), ['CovidtoOccupancyRatio'])\n",
    "    ], remainder='passthrough')\n",
    "\n",
    "ct.fit_transform(features)"
   ]
  },
  {
   "cell_type": "code",
   "execution_count": 50,
   "metadata": {},
   "outputs": [],
   "source": [
    "# df_covid19[\"CovidtoOccupancyRatio\"] = np.log(df_covid19[\"CovidtoOccupancyRatio\"])\n",
    "# df_covid19.replace([np.inf, -np.inf], 0, inplace=True)"
   ]
  },
  {
   "cell_type": "code",
   "execution_count": 51,
   "metadata": {},
   "outputs": [
    {
     "data": {
      "text/html": [
       "<div>\n",
       "<style scoped>\n",
       "    .dataframe tbody tr th:only-of-type {\n",
       "        vertical-align: middle;\n",
       "    }\n",
       "\n",
       "    .dataframe tbody tr th {\n",
       "        vertical-align: top;\n",
       "    }\n",
       "\n",
       "    .dataframe thead th {\n",
       "        text-align: right;\n",
       "    }\n",
       "</style>\n",
       "<table border=\"1\" class=\"dataframe\">\n",
       "  <thead>\n",
       "    <tr style=\"text-align: right;\">\n",
       "      <th></th>\n",
       "      <th>WeekEnding</th>\n",
       "      <th>FederalProviderNumber</th>\n",
       "      <th>ProviderName</th>\n",
       "      <th>ProviderAddress</th>\n",
       "      <th>ProviderCity</th>\n",
       "      <th>ProviderState</th>\n",
       "      <th>ProviderZipCode</th>\n",
       "      <th>ResidentsWeeklyAdmissionsCOVID-19</th>\n",
       "      <th>ResidentsTotalAdmissionsCOVID-19</th>\n",
       "      <th>ResidentsWeeklyConfirmedCOVID-19</th>\n",
       "      <th>...</th>\n",
       "      <th>One-WeekSupplyofHandSanitizer</th>\n",
       "      <th>VentilatorDependentUnit</th>\n",
       "      <th>TotalResidentConfirmedCOVID-19CasesPer1,000Residents</th>\n",
       "      <th>TotalResidentCOVID-19DeathsPer1,000Residents</th>\n",
       "      <th>County</th>\n",
       "      <th>ThreeorMoreConfirmedandSuspectedCOVID-19CasesThisWeek</th>\n",
       "      <th>InitialConfirmedCOVID-19CaseThisWeek</th>\n",
       "      <th>Geolocation</th>\n",
       "      <th>CovidtoOccupancyRatio</th>\n",
       "      <th>TotalConfirmedCovid19Ratio</th>\n",
       "    </tr>\n",
       "  </thead>\n",
       "  <tbody>\n",
       "    <tr>\n",
       "      <th>0</th>\n",
       "      <td>07/12/2020</td>\n",
       "      <td>215195</td>\n",
       "      <td>AUTUMN LAKE HEALTHCARE AT BRIDGEPARK</td>\n",
       "      <td>4017 LIBERTY HEIGHTS AVE.</td>\n",
       "      <td>BALTIMORE</td>\n",
       "      <td>MD</td>\n",
       "      <td>21207</td>\n",
       "      <td>0.0</td>\n",
       "      <td>4.0</td>\n",
       "      <td>0.0</td>\n",
       "      <td>...</td>\n",
       "      <td>1</td>\n",
       "      <td>1</td>\n",
       "      <td>756.4</td>\n",
       "      <td>89.7</td>\n",
       "      <td>Baltimore City</td>\n",
       "      <td>0</td>\n",
       "      <td>0</td>\n",
       "      <td>POINT (-76.687185 39.328731)</td>\n",
       "      <td>0.000000</td>\n",
       "      <td>0.806122</td>\n",
       "    </tr>\n",
       "    <tr>\n",
       "      <th>1</th>\n",
       "      <td>06/07/2020</td>\n",
       "      <td>225260</td>\n",
       "      <td>BLAIRE HOUSE OF MILFORD</td>\n",
       "      <td>20 CLAFLIN STREET</td>\n",
       "      <td>MILFORD</td>\n",
       "      <td>MA</td>\n",
       "      <td>1757</td>\n",
       "      <td>2.0</td>\n",
       "      <td>8.0</td>\n",
       "      <td>0.0</td>\n",
       "      <td>...</td>\n",
       "      <td>1</td>\n",
       "      <td>0</td>\n",
       "      <td>97.6</td>\n",
       "      <td>146.3</td>\n",
       "      <td>Worcester</td>\n",
       "      <td>0</td>\n",
       "      <td>0</td>\n",
       "      <td>POINT (-71.517285 42.137664)</td>\n",
       "      <td>0.000000</td>\n",
       "      <td>0.109589</td>\n",
       "    </tr>\n",
       "    <tr>\n",
       "      <th>2</th>\n",
       "      <td>05/24/2020</td>\n",
       "      <td>215044</td>\n",
       "      <td>ST. ELIZABETH REHAB. &amp; NSG. CE</td>\n",
       "      <td>3320 BENSON AVENUE</td>\n",
       "      <td>BALTIMORE</td>\n",
       "      <td>MD</td>\n",
       "      <td>21227</td>\n",
       "      <td>3.0</td>\n",
       "      <td>3.0</td>\n",
       "      <td>8.0</td>\n",
       "      <td>...</td>\n",
       "      <td>1</td>\n",
       "      <td>0</td>\n",
       "      <td>59.7</td>\n",
       "      <td>14.9</td>\n",
       "      <td>Baltimore City</td>\n",
       "      <td>0</td>\n",
       "      <td>0</td>\n",
       "      <td>POINT (-76.669529 39.268871)</td>\n",
       "      <td>0.059701</td>\n",
       "      <td>0.148148</td>\n",
       "    </tr>\n",
       "    <tr>\n",
       "      <th>3</th>\n",
       "      <td>07/12/2020</td>\n",
       "      <td>165255</td>\n",
       "      <td>CARLISLE CENTER FOR WELLNESS AND REHAB</td>\n",
       "      <td>680 COLE STREET</td>\n",
       "      <td>CARLISLE</td>\n",
       "      <td>IA</td>\n",
       "      <td>50047</td>\n",
       "      <td>0.0</td>\n",
       "      <td>0.0</td>\n",
       "      <td>0.0</td>\n",
       "      <td>...</td>\n",
       "      <td>1</td>\n",
       "      <td>0</td>\n",
       "      <td>0.0</td>\n",
       "      <td>0.0</td>\n",
       "      <td>Warren</td>\n",
       "      <td>0</td>\n",
       "      <td>0</td>\n",
       "      <td>POINT (-93.493113 41.495666)</td>\n",
       "      <td>0.000000</td>\n",
       "      <td>0.012500</td>\n",
       "    </tr>\n",
       "    <tr>\n",
       "      <th>4</th>\n",
       "      <td>05/31/2020</td>\n",
       "      <td>185222</td>\n",
       "      <td>GOOD SHEPHERD HEALTH AND REHABILITATION</td>\n",
       "      <td>60 PHILLIPS BRANCH ROAD</td>\n",
       "      <td>PHELPS</td>\n",
       "      <td>KY</td>\n",
       "      <td>41553</td>\n",
       "      <td>0.0</td>\n",
       "      <td>0.0</td>\n",
       "      <td>0.0</td>\n",
       "      <td>...</td>\n",
       "      <td>1</td>\n",
       "      <td>0</td>\n",
       "      <td>0.0</td>\n",
       "      <td>0.0</td>\n",
       "      <td>Pike</td>\n",
       "      <td>0</td>\n",
       "      <td>0</td>\n",
       "      <td>POINT (-82.137144 37.495937)</td>\n",
       "      <td>0.000000</td>\n",
       "      <td>0.000000</td>\n",
       "    </tr>\n",
       "    <tr>\n",
       "      <th>5</th>\n",
       "      <td>06/28/2020</td>\n",
       "      <td>215181</td>\n",
       "      <td>OAKWOOD CARE CENTER</td>\n",
       "      <td>1300 WINDLASS DRIVE</td>\n",
       "      <td>BALTIMORE</td>\n",
       "      <td>MD</td>\n",
       "      <td>21220</td>\n",
       "      <td>0.0</td>\n",
       "      <td>2.0</td>\n",
       "      <td>0.0</td>\n",
       "      <td>...</td>\n",
       "      <td>1</td>\n",
       "      <td>0</td>\n",
       "      <td>30.0</td>\n",
       "      <td>0.0</td>\n",
       "      <td>Baltimore</td>\n",
       "      <td>0</td>\n",
       "      <td>0</td>\n",
       "      <td>POINT (-76.450123 39.335341)</td>\n",
       "      <td>0.000000</td>\n",
       "      <td>0.046154</td>\n",
       "    </tr>\n",
       "    <tr>\n",
       "      <th>6</th>\n",
       "      <td>06/14/2020</td>\n",
       "      <td>165592</td>\n",
       "      <td>SAVANNAH HEIGHTS</td>\n",
       "      <td>601 S PRAIRIE STREET</td>\n",
       "      <td>MOUNT PLEASANT</td>\n",
       "      <td>IA</td>\n",
       "      <td>52641</td>\n",
       "      <td>3.0</td>\n",
       "      <td>3.0</td>\n",
       "      <td>0.0</td>\n",
       "      <td>...</td>\n",
       "      <td>1</td>\n",
       "      <td>0</td>\n",
       "      <td>0.0</td>\n",
       "      <td>0.0</td>\n",
       "      <td>Henry</td>\n",
       "      <td>0</td>\n",
       "      <td>0</td>\n",
       "      <td>POINT (-91.1047 40.796981)</td>\n",
       "      <td>0.000000</td>\n",
       "      <td>0.000000</td>\n",
       "    </tr>\n",
       "    <tr>\n",
       "      <th>7</th>\n",
       "      <td>06/07/2020</td>\n",
       "      <td>195525</td>\n",
       "      <td>WESTWOOD MANOR NURSING HOME, INC</td>\n",
       "      <td>714 HIGH SCHOOL DRIVE</td>\n",
       "      <td>DERIDDER</td>\n",
       "      <td>LA</td>\n",
       "      <td>70634</td>\n",
       "      <td>0.0</td>\n",
       "      <td>0.0</td>\n",
       "      <td>0.0</td>\n",
       "      <td>...</td>\n",
       "      <td>1</td>\n",
       "      <td>0</td>\n",
       "      <td>0.0</td>\n",
       "      <td>0.0</td>\n",
       "      <td>Beauregard</td>\n",
       "      <td>0</td>\n",
       "      <td>0</td>\n",
       "      <td>POINT (-93.294045 30.857585)</td>\n",
       "      <td>0.000000</td>\n",
       "      <td>0.000000</td>\n",
       "    </tr>\n",
       "    <tr>\n",
       "      <th>8</th>\n",
       "      <td>06/28/2020</td>\n",
       "      <td>215065</td>\n",
       "      <td>BEL PRE HEALTHCARE CENTER</td>\n",
       "      <td>2601 BEL PRE ROAD</td>\n",
       "      <td>SILVER SPRING</td>\n",
       "      <td>MD</td>\n",
       "      <td>20906</td>\n",
       "      <td>0.0</td>\n",
       "      <td>4.0</td>\n",
       "      <td>0.0</td>\n",
       "      <td>...</td>\n",
       "      <td>1</td>\n",
       "      <td>0</td>\n",
       "      <td>568.2</td>\n",
       "      <td>11.4</td>\n",
       "      <td>Montgomery</td>\n",
       "      <td>0</td>\n",
       "      <td>0</td>\n",
       "      <td>POINT (-77.0534 39.090391)</td>\n",
       "      <td>0.000000</td>\n",
       "      <td>0.663043</td>\n",
       "    </tr>\n",
       "    <tr>\n",
       "      <th>9</th>\n",
       "      <td>06/07/2020</td>\n",
       "      <td>195516</td>\n",
       "      <td>CAMELOT LEISURE LIVING</td>\n",
       "      <td>6818 HIGHWAY 84 WEST</td>\n",
       "      <td>FERRIDAY</td>\n",
       "      <td>LA</td>\n",
       "      <td>71334</td>\n",
       "      <td>0.0</td>\n",
       "      <td>0.0</td>\n",
       "      <td>0.0</td>\n",
       "      <td>...</td>\n",
       "      <td>1</td>\n",
       "      <td>0</td>\n",
       "      <td>0.0</td>\n",
       "      <td>0.0</td>\n",
       "      <td>Concordia</td>\n",
       "      <td>0</td>\n",
       "      <td>0</td>\n",
       "      <td>POINT (-91.534844 31.612567)</td>\n",
       "      <td>0.000000</td>\n",
       "      <td>0.000000</td>\n",
       "    </tr>\n",
       "    <tr>\n",
       "      <th>11</th>\n",
       "      <td>07/05/2020</td>\n",
       "      <td>165513</td>\n",
       "      <td>LUTHER MANOR COMMUNITIES</td>\n",
       "      <td>3131 HILLCREST ROAD</td>\n",
       "      <td>DUBUQUE</td>\n",
       "      <td>IA</td>\n",
       "      <td>52001</td>\n",
       "      <td>0.0</td>\n",
       "      <td>2.0</td>\n",
       "      <td>0.0</td>\n",
       "      <td>...</td>\n",
       "      <td>0</td>\n",
       "      <td>0</td>\n",
       "      <td>0.0</td>\n",
       "      <td>0.0</td>\n",
       "      <td>Dubuque</td>\n",
       "      <td>0</td>\n",
       "      <td>0</td>\n",
       "      <td>POINT (-90.716023 42.505544)</td>\n",
       "      <td>0.000000</td>\n",
       "      <td>0.029126</td>\n",
       "    </tr>\n",
       "    <tr>\n",
       "      <th>12</th>\n",
       "      <td>06/07/2020</td>\n",
       "      <td>175456</td>\n",
       "      <td>VILLA MARIA</td>\n",
       "      <td>116 S CENTRAL AVE</td>\n",
       "      <td>MULVANE</td>\n",
       "      <td>KS</td>\n",
       "      <td>67110</td>\n",
       "      <td>0.0</td>\n",
       "      <td>0.0</td>\n",
       "      <td>0.0</td>\n",
       "      <td>...</td>\n",
       "      <td>1</td>\n",
       "      <td>0</td>\n",
       "      <td>0.0</td>\n",
       "      <td>0.0</td>\n",
       "      <td>Sumner</td>\n",
       "      <td>0</td>\n",
       "      <td>0</td>\n",
       "      <td>POINT (-97.240836 37.474738)</td>\n",
       "      <td>0.000000</td>\n",
       "      <td>0.000000</td>\n",
       "    </tr>\n",
       "    <tr>\n",
       "      <th>14</th>\n",
       "      <td>06/28/2020</td>\n",
       "      <td>205108</td>\n",
       "      <td>ST ANDRE HEALTH CARE FACILITY</td>\n",
       "      <td>407 POOL ST</td>\n",
       "      <td>BIDDEFORD</td>\n",
       "      <td>ME</td>\n",
       "      <td>4005</td>\n",
       "      <td>0.0</td>\n",
       "      <td>0.0</td>\n",
       "      <td>0.0</td>\n",
       "      <td>...</td>\n",
       "      <td>1</td>\n",
       "      <td>0</td>\n",
       "      <td>0.0</td>\n",
       "      <td>0.0</td>\n",
       "      <td>York</td>\n",
       "      <td>0</td>\n",
       "      <td>0</td>\n",
       "      <td>POINT (-70.41664 43.476459)</td>\n",
       "      <td>0.000000</td>\n",
       "      <td>0.000000</td>\n",
       "    </tr>\n",
       "    <tr>\n",
       "      <th>15</th>\n",
       "      <td>06/28/2020</td>\n",
       "      <td>215220</td>\n",
       "      <td>CHAPEL HILL NURSING CENTER</td>\n",
       "      <td>4511 ROBOSSON ROAD</td>\n",
       "      <td>RANDALLSTOWN</td>\n",
       "      <td>MD</td>\n",
       "      <td>21133</td>\n",
       "      <td>0.0</td>\n",
       "      <td>2.0</td>\n",
       "      <td>0.0</td>\n",
       "      <td>...</td>\n",
       "      <td>1</td>\n",
       "      <td>0</td>\n",
       "      <td>0.0</td>\n",
       "      <td>0.0</td>\n",
       "      <td>Baltimore</td>\n",
       "      <td>0</td>\n",
       "      <td>0</td>\n",
       "      <td>POINT (-76.860821 39.396338)</td>\n",
       "      <td>0.000000</td>\n",
       "      <td>0.000000</td>\n",
       "    </tr>\n",
       "    <tr>\n",
       "      <th>16</th>\n",
       "      <td>07/12/2020</td>\n",
       "      <td>165267</td>\n",
       "      <td>MAPLE HEIGHTS</td>\n",
       "      <td>2 SUNRISE AVENUE</td>\n",
       "      <td>MAPLETON</td>\n",
       "      <td>IA</td>\n",
       "      <td>51034</td>\n",
       "      <td>0.0</td>\n",
       "      <td>0.0</td>\n",
       "      <td>0.0</td>\n",
       "      <td>...</td>\n",
       "      <td>1</td>\n",
       "      <td>0</td>\n",
       "      <td>0.0</td>\n",
       "      <td>0.0</td>\n",
       "      <td>Monona</td>\n",
       "      <td>0</td>\n",
       "      <td>0</td>\n",
       "      <td>POINT (-95.78121 42.163274)</td>\n",
       "      <td>0.000000</td>\n",
       "      <td>0.000000</td>\n",
       "    </tr>\n",
       "    <tr>\n",
       "      <th>17</th>\n",
       "      <td>06/07/2020</td>\n",
       "      <td>215258</td>\n",
       "      <td>SPA CREEK CENTER</td>\n",
       "      <td>35 MILKSHAKE LANE</td>\n",
       "      <td>ANNAPOLIS</td>\n",
       "      <td>MD</td>\n",
       "      <td>21403</td>\n",
       "      <td>0.0</td>\n",
       "      <td>0.0</td>\n",
       "      <td>2.0</td>\n",
       "      <td>...</td>\n",
       "      <td>1</td>\n",
       "      <td>0</td>\n",
       "      <td>388.9</td>\n",
       "      <td>41.7</td>\n",
       "      <td>Anne Arundel</td>\n",
       "      <td>0</td>\n",
       "      <td>0</td>\n",
       "      <td>POINT (-76.504617 38.960318)</td>\n",
       "      <td>0.027778</td>\n",
       "      <td>0.330769</td>\n",
       "    </tr>\n",
       "    <tr>\n",
       "      <th>18</th>\n",
       "      <td>06/21/2020</td>\n",
       "      <td>175411</td>\n",
       "      <td>COUNTRY CARE, INC</td>\n",
       "      <td>515 DAWSON</td>\n",
       "      <td>EASTON</td>\n",
       "      <td>KS</td>\n",
       "      <td>66020</td>\n",
       "      <td>0.0</td>\n",
       "      <td>0.0</td>\n",
       "      <td>0.0</td>\n",
       "      <td>...</td>\n",
       "      <td>1</td>\n",
       "      <td>0</td>\n",
       "      <td>0.0</td>\n",
       "      <td>0.0</td>\n",
       "      <td>Leavenworth</td>\n",
       "      <td>0</td>\n",
       "      <td>0</td>\n",
       "      <td>POINT (-95.120484 39.345909)</td>\n",
       "      <td>0.000000</td>\n",
       "      <td>0.000000</td>\n",
       "    </tr>\n",
       "    <tr>\n",
       "      <th>19</th>\n",
       "      <td>06/14/2020</td>\n",
       "      <td>215022</td>\n",
       "      <td>KING DAVID NURSING AND REHABILITATION CENTER</td>\n",
       "      <td>4204 OLD MILFORD MILL ROAD</td>\n",
       "      <td>BALTIMORE</td>\n",
       "      <td>MD</td>\n",
       "      <td>21208</td>\n",
       "      <td>0.0</td>\n",
       "      <td>1.0</td>\n",
       "      <td>21.0</td>\n",
       "      <td>...</td>\n",
       "      <td>1</td>\n",
       "      <td>0</td>\n",
       "      <td>423.5</td>\n",
       "      <td>11.8</td>\n",
       "      <td>Baltimore</td>\n",
       "      <td>1</td>\n",
       "      <td>0</td>\n",
       "      <td>POINT (-76.716443 39.363971)</td>\n",
       "      <td>0.247059</td>\n",
       "      <td>0.430000</td>\n",
       "    </tr>\n",
       "    <tr>\n",
       "      <th>21</th>\n",
       "      <td>06/14/2020</td>\n",
       "      <td>195382</td>\n",
       "      <td>STERLING PLACE</td>\n",
       "      <td>3888 NORTH BLVD.</td>\n",
       "      <td>BATON ROUGE</td>\n",
       "      <td>LA</td>\n",
       "      <td>70806</td>\n",
       "      <td>2.0</td>\n",
       "      <td>22.0</td>\n",
       "      <td>5.0</td>\n",
       "      <td>...</td>\n",
       "      <td>1</td>\n",
       "      <td>0</td>\n",
       "      <td>274.8</td>\n",
       "      <td>61.1</td>\n",
       "      <td>East Baton Rouge</td>\n",
       "      <td>1</td>\n",
       "      <td>0</td>\n",
       "      <td>POINT (-91.149942 30.448368)</td>\n",
       "      <td>0.038168</td>\n",
       "      <td>0.270588</td>\n",
       "    </tr>\n",
       "    <tr>\n",
       "      <th>22</th>\n",
       "      <td>07/05/2020</td>\n",
       "      <td>225464</td>\n",
       "      <td>GLOUCESTER HEALTHCARE</td>\n",
       "      <td>272 WASHINGTON STREET</td>\n",
       "      <td>GLOUCESTER</td>\n",
       "      <td>MA</td>\n",
       "      <td>1930</td>\n",
       "      <td>0.0</td>\n",
       "      <td>4.0</td>\n",
       "      <td>0.0</td>\n",
       "      <td>...</td>\n",
       "      <td>1</td>\n",
       "      <td>0</td>\n",
       "      <td>380.0</td>\n",
       "      <td>140.0</td>\n",
       "      <td>Essex</td>\n",
       "      <td>0</td>\n",
       "      <td>0</td>\n",
       "      <td>POINT (-70.678041 42.624329)</td>\n",
       "      <td>0.000000</td>\n",
       "      <td>0.227723</td>\n",
       "    </tr>\n",
       "  </tbody>\n",
       "</table>\n",
       "<p>20 rows × 54 columns</p>\n",
       "</div>"
      ],
      "text/plain": [
       "    WeekEnding FederalProviderNumber  \\\n",
       "0   07/12/2020                215195   \n",
       "1   06/07/2020                225260   \n",
       "2   05/24/2020                215044   \n",
       "3   07/12/2020                165255   \n",
       "4   05/31/2020                185222   \n",
       "5   06/28/2020                215181   \n",
       "6   06/14/2020                165592   \n",
       "7   06/07/2020                195525   \n",
       "8   06/28/2020                215065   \n",
       "9   06/07/2020                195516   \n",
       "11  07/05/2020                165513   \n",
       "12  06/07/2020                175456   \n",
       "14  06/28/2020                205108   \n",
       "15  06/28/2020                215220   \n",
       "16  07/12/2020                165267   \n",
       "17  06/07/2020                215258   \n",
       "18  06/21/2020                175411   \n",
       "19  06/14/2020                215022   \n",
       "21  06/14/2020                195382   \n",
       "22  07/05/2020                225464   \n",
       "\n",
       "                                    ProviderName             ProviderAddress  \\\n",
       "0           AUTUMN LAKE HEALTHCARE AT BRIDGEPARK   4017 LIBERTY HEIGHTS AVE.   \n",
       "1                        BLAIRE HOUSE OF MILFORD           20 CLAFLIN STREET   \n",
       "2                 ST. ELIZABETH REHAB. & NSG. CE          3320 BENSON AVENUE   \n",
       "3         CARLISLE CENTER FOR WELLNESS AND REHAB             680 COLE STREET   \n",
       "4        GOOD SHEPHERD HEALTH AND REHABILITATION     60 PHILLIPS BRANCH ROAD   \n",
       "5                            OAKWOOD CARE CENTER         1300 WINDLASS DRIVE   \n",
       "6                               SAVANNAH HEIGHTS        601 S PRAIRIE STREET   \n",
       "7               WESTWOOD MANOR NURSING HOME, INC       714 HIGH SCHOOL DRIVE   \n",
       "8                      BEL PRE HEALTHCARE CENTER           2601 BEL PRE ROAD   \n",
       "9                         CAMELOT LEISURE LIVING        6818 HIGHWAY 84 WEST   \n",
       "11                      LUTHER MANOR COMMUNITIES         3131 HILLCREST ROAD   \n",
       "12                                   VILLA MARIA           116 S CENTRAL AVE   \n",
       "14                 ST ANDRE HEALTH CARE FACILITY                 407 POOL ST   \n",
       "15                    CHAPEL HILL NURSING CENTER          4511 ROBOSSON ROAD   \n",
       "16                                 MAPLE HEIGHTS            2 SUNRISE AVENUE   \n",
       "17                              SPA CREEK CENTER           35 MILKSHAKE LANE   \n",
       "18                             COUNTRY CARE, INC                  515 DAWSON   \n",
       "19  KING DAVID NURSING AND REHABILITATION CENTER  4204 OLD MILFORD MILL ROAD   \n",
       "21                                STERLING PLACE            3888 NORTH BLVD.   \n",
       "22                         GLOUCESTER HEALTHCARE       272 WASHINGTON STREET   \n",
       "\n",
       "      ProviderCity ProviderState  ProviderZipCode  \\\n",
       "0        BALTIMORE            MD            21207   \n",
       "1          MILFORD            MA             1757   \n",
       "2        BALTIMORE            MD            21227   \n",
       "3         CARLISLE            IA            50047   \n",
       "4           PHELPS            KY            41553   \n",
       "5        BALTIMORE            MD            21220   \n",
       "6   MOUNT PLEASANT            IA            52641   \n",
       "7         DERIDDER            LA            70634   \n",
       "8    SILVER SPRING            MD            20906   \n",
       "9         FERRIDAY            LA            71334   \n",
       "11         DUBUQUE            IA            52001   \n",
       "12         MULVANE            KS            67110   \n",
       "14       BIDDEFORD            ME             4005   \n",
       "15    RANDALLSTOWN            MD            21133   \n",
       "16        MAPLETON            IA            51034   \n",
       "17       ANNAPOLIS            MD            21403   \n",
       "18          EASTON            KS            66020   \n",
       "19       BALTIMORE            MD            21208   \n",
       "21     BATON ROUGE            LA            70806   \n",
       "22      GLOUCESTER            MA             1930   \n",
       "\n",
       "    ResidentsWeeklyAdmissionsCOVID-19  ResidentsTotalAdmissionsCOVID-19  \\\n",
       "0                                 0.0                               4.0   \n",
       "1                                 2.0                               8.0   \n",
       "2                                 3.0                               3.0   \n",
       "3                                 0.0                               0.0   \n",
       "4                                 0.0                               0.0   \n",
       "5                                 0.0                               2.0   \n",
       "6                                 3.0                               3.0   \n",
       "7                                 0.0                               0.0   \n",
       "8                                 0.0                               4.0   \n",
       "9                                 0.0                               0.0   \n",
       "11                                0.0                               2.0   \n",
       "12                                0.0                               0.0   \n",
       "14                                0.0                               0.0   \n",
       "15                                0.0                               2.0   \n",
       "16                                0.0                               0.0   \n",
       "17                                0.0                               0.0   \n",
       "18                                0.0                               0.0   \n",
       "19                                0.0                               1.0   \n",
       "21                                2.0                              22.0   \n",
       "22                                0.0                               4.0   \n",
       "\n",
       "    ResidentsWeeklyConfirmedCOVID-19  ...  One-WeekSupplyofHandSanitizer  \\\n",
       "0                                0.0  ...                              1   \n",
       "1                                0.0  ...                              1   \n",
       "2                                8.0  ...                              1   \n",
       "3                                0.0  ...                              1   \n",
       "4                                0.0  ...                              1   \n",
       "5                                0.0  ...                              1   \n",
       "6                                0.0  ...                              1   \n",
       "7                                0.0  ...                              1   \n",
       "8                                0.0  ...                              1   \n",
       "9                                0.0  ...                              1   \n",
       "11                               0.0  ...                              0   \n",
       "12                               0.0  ...                              1   \n",
       "14                               0.0  ...                              1   \n",
       "15                               0.0  ...                              1   \n",
       "16                               0.0  ...                              1   \n",
       "17                               2.0  ...                              1   \n",
       "18                               0.0  ...                              1   \n",
       "19                              21.0  ...                              1   \n",
       "21                               5.0  ...                              1   \n",
       "22                               0.0  ...                              1   \n",
       "\n",
       "    VentilatorDependentUnit  \\\n",
       "0                         1   \n",
       "1                         0   \n",
       "2                         0   \n",
       "3                         0   \n",
       "4                         0   \n",
       "5                         0   \n",
       "6                         0   \n",
       "7                         0   \n",
       "8                         0   \n",
       "9                         0   \n",
       "11                        0   \n",
       "12                        0   \n",
       "14                        0   \n",
       "15                        0   \n",
       "16                        0   \n",
       "17                        0   \n",
       "18                        0   \n",
       "19                        0   \n",
       "21                        0   \n",
       "22                        0   \n",
       "\n",
       "    TotalResidentConfirmedCOVID-19CasesPer1,000Residents  \\\n",
       "0                                               756.4      \n",
       "1                                                97.6      \n",
       "2                                                59.7      \n",
       "3                                                 0.0      \n",
       "4                                                 0.0      \n",
       "5                                                30.0      \n",
       "6                                                 0.0      \n",
       "7                                                 0.0      \n",
       "8                                               568.2      \n",
       "9                                                 0.0      \n",
       "11                                                0.0      \n",
       "12                                                0.0      \n",
       "14                                                0.0      \n",
       "15                                                0.0      \n",
       "16                                                0.0      \n",
       "17                                              388.9      \n",
       "18                                                0.0      \n",
       "19                                              423.5      \n",
       "21                                              274.8      \n",
       "22                                              380.0      \n",
       "\n",
       "    TotalResidentCOVID-19DeathsPer1,000Residents            County  \\\n",
       "0                                           89.7    Baltimore City   \n",
       "1                                          146.3         Worcester   \n",
       "2                                           14.9    Baltimore City   \n",
       "3                                            0.0            Warren   \n",
       "4                                            0.0              Pike   \n",
       "5                                            0.0         Baltimore   \n",
       "6                                            0.0             Henry   \n",
       "7                                            0.0        Beauregard   \n",
       "8                                           11.4        Montgomery   \n",
       "9                                            0.0         Concordia   \n",
       "11                                           0.0           Dubuque   \n",
       "12                                           0.0            Sumner   \n",
       "14                                           0.0              York   \n",
       "15                                           0.0         Baltimore   \n",
       "16                                           0.0            Monona   \n",
       "17                                          41.7      Anne Arundel   \n",
       "18                                           0.0       Leavenworth   \n",
       "19                                          11.8         Baltimore   \n",
       "21                                          61.1  East Baton Rouge   \n",
       "22                                         140.0             Essex   \n",
       "\n",
       "    ThreeorMoreConfirmedandSuspectedCOVID-19CasesThisWeek  \\\n",
       "0                                                   0       \n",
       "1                                                   0       \n",
       "2                                                   0       \n",
       "3                                                   0       \n",
       "4                                                   0       \n",
       "5                                                   0       \n",
       "6                                                   0       \n",
       "7                                                   0       \n",
       "8                                                   0       \n",
       "9                                                   0       \n",
       "11                                                  0       \n",
       "12                                                  0       \n",
       "14                                                  0       \n",
       "15                                                  0       \n",
       "16                                                  0       \n",
       "17                                                  0       \n",
       "18                                                  0       \n",
       "19                                                  1       \n",
       "21                                                  1       \n",
       "22                                                  0       \n",
       "\n",
       "    InitialConfirmedCOVID-19CaseThisWeek                   Geolocation  \\\n",
       "0                                      0  POINT (-76.687185 39.328731)   \n",
       "1                                      0  POINT (-71.517285 42.137664)   \n",
       "2                                      0  POINT (-76.669529 39.268871)   \n",
       "3                                      0  POINT (-93.493113 41.495666)   \n",
       "4                                      0  POINT (-82.137144 37.495937)   \n",
       "5                                      0  POINT (-76.450123 39.335341)   \n",
       "6                                      0    POINT (-91.1047 40.796981)   \n",
       "7                                      0  POINT (-93.294045 30.857585)   \n",
       "8                                      0    POINT (-77.0534 39.090391)   \n",
       "9                                      0  POINT (-91.534844 31.612567)   \n",
       "11                                     0  POINT (-90.716023 42.505544)   \n",
       "12                                     0  POINT (-97.240836 37.474738)   \n",
       "14                                     0   POINT (-70.41664 43.476459)   \n",
       "15                                     0  POINT (-76.860821 39.396338)   \n",
       "16                                     0   POINT (-95.78121 42.163274)   \n",
       "17                                     0  POINT (-76.504617 38.960318)   \n",
       "18                                     0  POINT (-95.120484 39.345909)   \n",
       "19                                     0  POINT (-76.716443 39.363971)   \n",
       "21                                     0  POINT (-91.149942 30.448368)   \n",
       "22                                     0  POINT (-70.678041 42.624329)   \n",
       "\n",
       "    CovidtoOccupancyRatio TotalConfirmedCovid19Ratio  \n",
       "0                0.000000                   0.806122  \n",
       "1                0.000000                   0.109589  \n",
       "2                0.059701                   0.148148  \n",
       "3                0.000000                   0.012500  \n",
       "4                0.000000                   0.000000  \n",
       "5                0.000000                   0.046154  \n",
       "6                0.000000                   0.000000  \n",
       "7                0.000000                   0.000000  \n",
       "8                0.000000                   0.663043  \n",
       "9                0.000000                   0.000000  \n",
       "11               0.000000                   0.029126  \n",
       "12               0.000000                   0.000000  \n",
       "14               0.000000                   0.000000  \n",
       "15               0.000000                   0.000000  \n",
       "16               0.000000                   0.000000  \n",
       "17               0.027778                   0.330769  \n",
       "18               0.000000                   0.000000  \n",
       "19               0.247059                   0.430000  \n",
       "21               0.038168                   0.270588  \n",
       "22               0.000000                   0.227723  \n",
       "\n",
       "[20 rows x 54 columns]"
      ]
     },
     "execution_count": 51,
     "metadata": {},
     "output_type": "execute_result"
    }
   ],
   "source": [
    "# Print head\n",
    "df_covid19.head(20)"
   ]
  },
  {
   "cell_type": "code",
   "execution_count": 52,
   "metadata": {},
   "outputs": [
    {
     "data": {
      "text/plain": [
       "['WeekEnding',\n",
       " 'FederalProviderNumber',\n",
       " 'ProviderName',\n",
       " 'ProviderAddress',\n",
       " 'ProviderCity',\n",
       " 'ProviderState',\n",
       " 'ProviderZipCode',\n",
       " 'ResidentsWeeklyAdmissionsCOVID-19',\n",
       " 'ResidentsTotalAdmissionsCOVID-19',\n",
       " 'ResidentsWeeklyConfirmedCOVID-19',\n",
       " 'ResidentsTotalConfirmedCOVID-19',\n",
       " 'ResidentsWeeklySuspectedCOVID-19',\n",
       " 'ResidentsTotalSuspectedCOVID-19',\n",
       " 'ResidentsWeeklyAllDeaths',\n",
       " 'ResidentsTotalAllDeaths',\n",
       " 'ResidentsWeeklyCOVID-19Deaths',\n",
       " 'ResidentsTotalCOVID-19Deaths',\n",
       " 'NumberofAllBeds',\n",
       " 'TotalNumberofOccupiedBeds',\n",
       " 'ResidentAccesstoTestinginFacility',\n",
       " 'LaboratoryTypeIsStateHealthDept',\n",
       " 'LaboratoryTypeIsPrivateLab',\n",
       " 'LaboratoryTypeIsOther',\n",
       " 'StaffWeeklyConfirmedCOVID-19',\n",
       " 'StaffTotalConfirmedCOVID-19',\n",
       " 'StaffWeeklySuspectedCOVID-19',\n",
       " 'StaffTotalSuspectedCOVID-19',\n",
       " 'StaffWeeklyCOVID-19Deaths',\n",
       " 'StaffTotalCOVID-19Deaths',\n",
       " 'ShortageofNursingStaff',\n",
       " 'ShortageofClinicalStaff',\n",
       " 'ShortageofAides',\n",
       " 'ShortageofOtherStaff',\n",
       " 'AnyCurrentSupplyofN95Masks',\n",
       " 'One-WeekSupplyofN95Masks',\n",
       " 'AnyCurrentSupplyofSurgicalMasks',\n",
       " 'One-WeekSupplyofSurgicalMasks',\n",
       " 'AnyCurrentSupplyofEyeProtection',\n",
       " 'One-WeekSupplyofEyeProtection',\n",
       " 'AnyCurrentSupplyofGowns',\n",
       " 'One-WeekSupplyofGowns',\n",
       " 'AnyCurrentSupplyofGloves',\n",
       " 'One-WeekSupplyofGloves',\n",
       " 'AnyCurrentSupplyofHandSanitizer',\n",
       " 'One-WeekSupplyofHandSanitizer',\n",
       " 'VentilatorDependentUnit',\n",
       " 'TotalResidentConfirmedCOVID-19CasesPer1,000Residents',\n",
       " 'TotalResidentCOVID-19DeathsPer1,000Residents',\n",
       " 'County',\n",
       " 'ThreeorMoreConfirmedandSuspectedCOVID-19CasesThisWeek',\n",
       " 'InitialConfirmedCOVID-19CaseThisWeek',\n",
       " 'Geolocation',\n",
       " 'CovidtoOccupancyRatio',\n",
       " 'TotalConfirmedCovid19Ratio']"
      ]
     },
     "execution_count": 52,
     "metadata": {},
     "output_type": "execute_result"
    }
   ],
   "source": [
    "# Make a list of column names\n",
    "l_column = list(df_covid19.columns)\n",
    "l_column"
   ]
  },
  {
   "cell_type": "markdown",
   "metadata": {},
   "source": [
    "Create Independent and Dependant Variables:"
   ]
  },
  {
   "cell_type": "code",
   "execution_count": 53,
   "metadata": {},
   "outputs": [],
   "source": [
    "# Drop CovidtoOccupancyRatio \n",
    "df_covid19 = df_covid19.drop(columns = ['CovidtoOccupancyRatio'])"
   ]
  },
  {
   "cell_type": "code",
   "execution_count": 54,
   "metadata": {},
   "outputs": [
    {
     "data": {
      "text/plain": [
       "['WeekEnding',\n",
       " 'FederalProviderNumber',\n",
       " 'ProviderName',\n",
       " 'ProviderAddress',\n",
       " 'ProviderCity',\n",
       " 'ProviderState',\n",
       " 'ProviderZipCode',\n",
       " 'ResidentsWeeklyAdmissionsCOVID-19',\n",
       " 'ResidentsTotalAdmissionsCOVID-19',\n",
       " 'ResidentsWeeklyConfirmedCOVID-19',\n",
       " 'ResidentsTotalConfirmedCOVID-19',\n",
       " 'ResidentsWeeklySuspectedCOVID-19',\n",
       " 'ResidentsTotalSuspectedCOVID-19',\n",
       " 'ResidentsWeeklyAllDeaths',\n",
       " 'ResidentsTotalAllDeaths',\n",
       " 'ResidentsWeeklyCOVID-19Deaths',\n",
       " 'ResidentsTotalCOVID-19Deaths',\n",
       " 'NumberofAllBeds',\n",
       " 'TotalNumberofOccupiedBeds',\n",
       " 'ResidentAccesstoTestinginFacility',\n",
       " 'LaboratoryTypeIsStateHealthDept',\n",
       " 'LaboratoryTypeIsPrivateLab',\n",
       " 'LaboratoryTypeIsOther',\n",
       " 'StaffWeeklyConfirmedCOVID-19',\n",
       " 'StaffTotalConfirmedCOVID-19',\n",
       " 'StaffWeeklySuspectedCOVID-19',\n",
       " 'StaffTotalSuspectedCOVID-19',\n",
       " 'StaffWeeklyCOVID-19Deaths',\n",
       " 'StaffTotalCOVID-19Deaths',\n",
       " 'ShortageofNursingStaff',\n",
       " 'ShortageofClinicalStaff',\n",
       " 'ShortageofAides',\n",
       " 'ShortageofOtherStaff',\n",
       " 'AnyCurrentSupplyofN95Masks',\n",
       " 'One-WeekSupplyofN95Masks',\n",
       " 'AnyCurrentSupplyofSurgicalMasks',\n",
       " 'One-WeekSupplyofSurgicalMasks',\n",
       " 'AnyCurrentSupplyofEyeProtection',\n",
       " 'One-WeekSupplyofEyeProtection',\n",
       " 'AnyCurrentSupplyofGowns',\n",
       " 'One-WeekSupplyofGowns',\n",
       " 'AnyCurrentSupplyofGloves',\n",
       " 'One-WeekSupplyofGloves',\n",
       " 'AnyCurrentSupplyofHandSanitizer',\n",
       " 'One-WeekSupplyofHandSanitizer',\n",
       " 'VentilatorDependentUnit',\n",
       " 'TotalResidentConfirmedCOVID-19CasesPer1,000Residents',\n",
       " 'TotalResidentCOVID-19DeathsPer1,000Residents',\n",
       " 'County',\n",
       " 'ThreeorMoreConfirmedandSuspectedCOVID-19CasesThisWeek',\n",
       " 'InitialConfirmedCOVID-19CaseThisWeek',\n",
       " 'Geolocation',\n",
       " 'TotalConfirmedCovid19Ratio']"
      ]
     },
     "execution_count": 54,
     "metadata": {},
     "output_type": "execute_result"
    }
   ],
   "source": [
    "# Make a list of column names\n",
    "l_column = list(df_covid19.columns)\n",
    "l_column"
   ]
  },
  {
   "cell_type": "code",
   "execution_count": 55,
   "metadata": {},
   "outputs": [
    {
     "data": {
      "text/plain": [
       "count    114058.000000\n",
       "mean          0.087360\n",
       "std           0.180950\n",
       "min           0.000000\n",
       "25%           0.000000\n",
       "50%           0.007921\n",
       "75%           0.066667\n",
       "max           1.904110\n",
       "Name: TotalConfirmedCovid19Ratio, dtype: float64"
      ]
     },
     "execution_count": 55,
     "metadata": {},
     "output_type": "execute_result"
    }
   ],
   "source": [
    "# Describe CovidtoOccupancyRatio\n",
    "df_covid19['TotalConfirmedCovid19Ratio'].describe()"
   ]
  },
  {
   "cell_type": "code",
   "execution_count": 56,
   "metadata": {},
   "outputs": [
    {
     "data": {
      "text/plain": [
       "<matplotlib.axes._subplots.AxesSubplot at 0x1a2109e750>"
      ]
     },
     "execution_count": 56,
     "metadata": {},
     "output_type": "execute_result"
    },
    {
     "data": {
      "image/png": "[encoded data removed]",
      "text/plain": [
       "<Figure size 432x288 with 1 Axes>"
      ]
     },
     "metadata": {},
     "output_type": "display_data"
    }
   ],
   "source": [
    "# Plot TotalConfirmedCovid19Ratio\n",
    "df_covid19['TotalConfirmedCovid19Ratio'].plot(kind='hist')"
   ]
  },
  {
   "cell_type": "code",
   "execution_count": 57,
   "metadata": {},
   "outputs": [],
   "source": [
    "# Create bins\n",
    "cut_labels_3 = ['low', 'medium', 'high']\n",
    "cut_bins = [0, .10, .4, 1]\n",
    "df_covid19['ConfirmedCases'] = pd.cut(df_covid19['TotalConfirmedCovid19Ratio'], bins=cut_bins, labels=cut_labels_3)"
   ]
  },
  {
   "cell_type": "code",
   "execution_count": 58,
   "metadata": {},
   "outputs": [
    {
     "data": {
      "text/plain": [
       "low       36043\n",
       "medium    14644\n",
       "high       8736\n",
       "Name: ConfirmedCases, dtype: int64"
      ]
     },
     "execution_count": 58,
     "metadata": {},
     "output_type": "execute_result"
    }
   ],
   "source": [
    "# Value counts to see distribution\n",
    "df_covid19['ConfirmedCases'].value_counts()"
   ]
  },
  {
   "cell_type": "code",
   "execution_count": 59,
   "metadata": {},
   "outputs": [
    {
     "data": {
      "text/plain": [
       "54635"
      ]
     },
     "execution_count": 59,
     "metadata": {},
     "output_type": "execute_result"
    }
   ],
   "source": [
    "# Show null amount \n",
    "sum(pd.isnull(df_covid19['ConfirmedCases']))"
   ]
  },
  {
   "cell_type": "code",
   "execution_count": 60,
   "metadata": {},
   "outputs": [],
   "source": [
    "# Remove nulls\n",
    "df_covid19 = df_covid19.dropna(axis=0, subset=['ConfirmedCases'])"
   ]
  },
  {
   "cell_type": "code",
   "execution_count": 61,
   "metadata": {},
   "outputs": [
    {
     "data": {
      "text/plain": [
       "low       36043\n",
       "medium    14644\n",
       "high       8736\n",
       "Name: ConfirmedCases, dtype: int64"
      ]
     },
     "execution_count": 61,
     "metadata": {},
     "output_type": "execute_result"
    }
   ],
   "source": [
    "# Print counts\n",
    "df_covid19['ConfirmedCases'].value_counts()"
   ]
  },
  {
   "cell_type": "code",
   "execution_count": 62,
   "metadata": {},
   "outputs": [],
   "source": [
    "# Create x y for train test split\n",
    "X= df_covid19[['LaboratoryTypeIsStateHealthDept', 'LaboratoryTypeIsPrivateLab', 'LaboratoryTypeIsOther', 'ShortageofNursingStaff',\n",
    " 'ShortageofClinicalStaff',\n",
    " 'ShortageofAides',\n",
    " 'ShortageofOtherStaff',\n",
    " 'AnyCurrentSupplyofN95Masks',\n",
    " 'One-WeekSupplyofN95Masks',\n",
    " 'AnyCurrentSupplyofSurgicalMasks',\n",
    " 'One-WeekSupplyofSurgicalMasks',\n",
    " 'AnyCurrentSupplyofEyeProtection',\n",
    " 'One-WeekSupplyofEyeProtection',\n",
    " 'AnyCurrentSupplyofGowns',\n",
    " 'One-WeekSupplyofGowns',\n",
    " 'AnyCurrentSupplyofGloves',\n",
    " 'One-WeekSupplyofGloves',\n",
    " 'AnyCurrentSupplyofHandSanitizer',\n",
    " 'One-WeekSupplyofHandSanitizer',]]\n",
    "\n",
    "# discretize using new feature \n",
    "y= df_covid19[['ConfirmedCases']]\n"
   ]
  },
  {
   "cell_type": "code",
   "execution_count": 63,
   "metadata": {},
   "outputs": [],
   "source": [
    "# Train test split and train decision tree and random forest\n",
    "from sklearn.model_selection import train_test_split\n",
    "X_train, X_test, y_train, y_test = train_test_split(X, y, test_size=0.30)"
   ]
  },
  {
   "cell_type": "markdown",
   "metadata": {},
   "source": [
    "Train Test Split:"
   ]
  },
  {
   "cell_type": "code",
   "execution_count": 64,
   "metadata": {},
   "outputs": [
    {
     "name": "stdout",
     "output_type": "stream",
     "text": [
      "Training feature set size: (41596, 19)\n",
      "Test feature set size: (17827, 19)\n",
      "Training variable set size: (41596, 1)\n",
      "Test variable set size: (17827, 1)\n"
     ]
    }
   ],
   "source": [
    "print(\"Training feature set size:\",X_train.shape)\n",
    "print(\"Test feature set size:\",X_test.shape)\n",
    "print(\"Training variable set size:\",y_train.shape)\n",
    "print(\"Test variable set size:\",y_test.shape)"
   ]
  },
  {
   "cell_type": "code",
   "execution_count": 65,
   "metadata": {},
   "outputs": [],
   "source": [
    "# Random Forest Classifier\n",
    "from sklearn.ensemble import RandomForestClassifier"
   ]
  },
  {
   "cell_type": "code",
   "execution_count": 66,
   "metadata": {},
   "outputs": [],
   "source": [
    "rfc = RandomForestClassifier(n_estimators=600, random_state=123)"
   ]
  },
  {
   "cell_type": "code",
   "execution_count": 67,
   "metadata": {},
   "outputs": [
    {
     "name": "stderr",
     "output_type": "stream",
     "text": [
      "/Users/sabdakarkera/opt/anaconda3/lib/python3.7/site-packages/ipykernel_launcher.py:1: DataConversionWarning: A column-vector y was passed when a 1d array was expected. Please change the shape of y to (n_samples,), for example using ravel().\n",
      "  \"\"\"Entry point for launching an IPython kernel.\n"
     ]
    },
    {
     "data": {
      "text/plain": [
       "RandomForestClassifier(bootstrap=True, ccp_alpha=0.0, class_weight=None,\n",
       "                       criterion='gini', max_depth=None, max_features='auto',\n",
       "                       max_leaf_nodes=None, max_samples=None,\n",
       "                       min_impurity_decrease=0.0, min_impurity_split=None,\n",
       "                       min_samples_leaf=1, min_samples_split=2,\n",
       "                       min_weight_fraction_leaf=0.0, n_estimators=600,\n",
       "                       n_jobs=None, oob_score=False, random_state=123,\n",
       "                       verbose=0, warm_start=False)"
      ]
     },
     "execution_count": 67,
     "metadata": {},
     "output_type": "execute_result"
    }
   ],
   "source": [
    "rfc.fit(X_train, y_train)"
   ]
  },
  {
   "cell_type": "code",
   "execution_count": 68,
   "metadata": {},
   "outputs": [],
   "source": [
    "#Prediction\n",
    "rfc_pred = rfc.predict(X_test)"
   ]
  },
  {
   "cell_type": "code",
   "execution_count": 69,
   "metadata": {},
   "outputs": [],
   "source": [
    "# Evaluate\n",
    "from sklearn.metrics import classification_report,confusion_matrix\n",
    "cr = classification_report(y_test,rfc_pred)"
   ]
  },
  {
   "cell_type": "code",
   "execution_count": 70,
   "metadata": {},
   "outputs": [
    {
     "name": "stdout",
     "output_type": "stream",
     "text": [
      "              precision    recall  f1-score   support\n",
      "\n",
      "        high       0.45      0.04      0.07      2581\n",
      "         low       0.61      0.98      0.76     10839\n",
      "      medium       0.46      0.03      0.06      4407\n",
      "\n",
      "    accuracy                           0.61     17827\n",
      "   macro avg       0.51      0.35      0.30     17827\n",
      "weighted avg       0.55      0.61      0.48     17827\n",
      "\n"
     ]
    }
   ],
   "source": [
    "#print cr\n",
    "print(cr)"
   ]
  },
  {
   "cell_type": "code",
   "execution_count": 71,
   "metadata": {},
   "outputs": [
    {
     "data": {
      "text/plain": [
       "DecisionTreeClassifier(ccp_alpha=0.0, class_weight=None, criterion='entropy',\n",
       "                       max_depth=None, max_features=None, max_leaf_nodes=None,\n",
       "                       min_impurity_decrease=0.0, min_impurity_split=None,\n",
       "                       min_samples_leaf=1, min_samples_split=2,\n",
       "                       min_weight_fraction_leaf=0.0, presort='deprecated',\n",
       "                       random_state=123, splitter='best')"
      ]
     },
     "execution_count": 71,
     "metadata": {},
     "output_type": "execute_result"
    }
   ],
   "source": [
    "# Decision Tree\n",
    "from sklearn.tree import DecisionTreeClassifier\n",
    "dtree = DecisionTreeClassifier(criterion='entropy',max_depth=None, random_state=123)\n",
    "dtree.fit(X_train,y_train)"
   ]
  },
  {
   "cell_type": "code",
   "execution_count": 72,
   "metadata": {},
   "outputs": [],
   "source": [
    "#Prediction\n",
    "predictions = dtree.predict(X_test)"
   ]
  },
  {
   "cell_type": "code",
   "execution_count": 73,
   "metadata": {},
   "outputs": [
    {
     "name": "stdout",
     "output_type": "stream",
     "text": [
      "              precision    recall  f1-score   support\n",
      "\n",
      "        high       0.38      0.04      0.08      2581\n",
      "         low       0.62      0.98      0.76     10839\n",
      "      medium       0.43      0.03      0.05      4407\n",
      "\n",
      "    accuracy                           0.61     17827\n",
      "   macro avg       0.48      0.35      0.30     17827\n",
      "weighted avg       0.54      0.61      0.48     17827\n",
      "\n"
     ]
    }
   ],
   "source": [
    "# Evaluation\n",
    "from sklearn.metrics import classification_report,confusion_matrix\n",
    "cr2 = classification_report(y_test,predictions)\n",
    "print(cr2)"
   ]
  },
  {
   "cell_type": "code",
   "execution_count": 74,
   "metadata": {},
   "outputs": [
    {
     "name": "stdout",
     "output_type": "stream",
     "text": [
      "[[  109  2433    39]\n",
      " [  105 10606   128]\n",
      " [   73  4206   128]]\n",
      "Accuracy of prediction: 0.601\n"
     ]
    }
   ],
   "source": [
    "#Evaluation using confustion matrix\n",
    "from sklearn.metrics import classification_report,confusion_matrix\n",
    "cm = confusion_matrix(y_test,predictions)\n",
    "print(cm)\n",
    "\n",
    "#Accuracy\n",
    "print (\"Accuracy of prediction:\",round((cm[0,0]+cm[1,1])/cm.sum(),3))"
   ]
  },
  {
   "cell_type": "code",
   "execution_count": 75,
   "metadata": {},
   "outputs": [
    {
     "data": {
      "text/plain": [
       "array([[  109,  2433,    39],\n",
       "       [  105, 10606,   128],\n",
       "       [   73,  4206,   128]])"
      ]
     },
     "execution_count": 75,
     "metadata": {},
     "output_type": "execute_result"
    }
   ],
   "source": [
    "#confusion matrix\n",
    "cm"
   ]
  },
  {
   "cell_type": "code",
   "execution_count": null,
   "metadata": {},
   "outputs": [],
   "source": []
  }
 ],
 "metadata": {
  "kernelspec": {
   "display_name": "Python 3",
   "language": "python",
   "name": "python3"
  },
  "language_info": {
   "codemirror_mode": {
    "name": "ipython",
    "version": 3
   },
   "file_extension": ".py",
   "mimetype": "text/x-python",
   "name": "python",
   "nbconvert_exporter": "python",
   "pygments_lexer": "ipython3",
   "version": "3.7.6"
  }
 },
 "nbformat": 4,
 "nbformat_minor": 2
}
